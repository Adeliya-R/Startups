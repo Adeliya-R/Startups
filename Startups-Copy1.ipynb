{
 "cells": [
  {
   "cell_type": "markdown",
   "id": "1e661cf5-f6b2-4462-b1e1-4385d32e5b59",
   "metadata": {},
   "source": [
    "# Проект исследования стартапов\n",
    "\n",
    "Цель проекта:\n",
    "\n",
    "- Разработать модель машинного обучения для предсказания продолжения деятельности стартапа. \n",
    "- Провести полноценный разведочный анализ и сформировать рекомендации будущим создателям стартапов (какие факторы влияют на успешность стартапа).\n",
    "\n",
    "План работ:\n",
    "\n",
    "- загрузка и ознакомление с данными,\n",
    "- предварительная обработка,\n",
    "- исследовательский анализ,\n",
    "- разработка новых синтетических признаков,\n",
    "- проверка на мультиколлинеарность,\n",
    "- отбор финального набора обучающих признаков,\n",
    "- выбор и обучение моделей,\n",
    "- итоговая оценка качества предсказания лучшей модели,\n",
    "- анализ важности ее признаков,\n",
    "- подготовка отчета по исследованию.\n",
    "\n",
    "Датасет состоит из двух файлов: тренировочный и тестовый.\n",
    "\n",
    "Описание полей данных:\n",
    "\n",
    "- name - Название стартапа\n",
    "- category_list - Список категорий, к которым относится стартап\n",
    "- funding_total_usd - Общая сумма финансирования в USD\n",
    "- status - Статус стартапа (закрыт или действующий)\n",
    "- country_code - Код страны\n",
    "- state_code - Код штата\n",
    "- region - Регион\n",
    "- city - Город\n",
    "- funding_rounds - Количество раундов финансирования\n",
    "- founded_at - Дата основания\n",
    "- first_funding_at - Дата первого раунда финансирования\n",
    "- last_funding_at - Дата последнего раунда финансирования\n",
    "- closed_at - Дата закрытия стартапа (если применимо)\n",
    "- lifetime - Время существования стартапа в днях\n",
    "\n",
    "<div style=\"background: #bbdb92\">Зеленым фоном подсвечены выводы по разделам.</div>\n",
    "<div style=\"background: #f5f7c4\">Желтым фоном подсвечены промежуточные комментарии.</div>"
   ]
  },
  {
   "cell_type": "markdown",
   "id": "c6079968-6679-4aed-956c-582d45ebf604",
   "metadata": {},
   "source": [
    "## Установка и импорт необходимых библиотек и модулей"
   ]
  },
  {
   "cell_type": "code",
   "execution_count": 1,
   "id": "7bbec5b5-eb2d-403f-835e-f95c6b78294b",
   "metadata": {
    "scrolled": true
   },
   "outputs": [],
   "source": [
    "!pip install matplotlib -q\n",
    "!pip install scikit-learn --upgrade -q\n",
    "!pip install shap -q\n",
    "!pip install phik -q"
   ]
  },
  {
   "cell_type": "code",
   "execution_count": 7,
   "id": "17f52822-6575-4e4f-897f-eb364cc2aa07",
   "metadata": {},
   "outputs": [],
   "source": [
    "import pandas as pd\n",
    "import matplotlib.pyplot as plt\n",
    "import numpy as np\n",
    "import seaborn as sns\n",
    "import phik\n",
    "\n",
    "from sklearn.pipeline import Pipeline\n",
    "from sklearn.compose import ColumnTransformer\n",
    "from sklearn.preprocessing import OneHotEncoder, OrdinalEncoder, LabelEncoder, StandardScaler, MinMaxScaler\n",
    "from sklearn.impute import SimpleImputer \n",
    "from sklearn.dummy import DummyClassifier\n",
    "\n",
    "from sklearn.tree import DecisionTreeClassifier\n",
    "from sklearn.neighbors import KNeighborsClassifier\n",
    "from sklearn.linear_model import LogisticRegression\n",
    "from sklearn.model_selection import train_test_split, RandomizedSearchCV\n",
    "from sklearn.metrics import f1_score\n",
    "\n",
    "import shap"
   ]
  },
  {
   "cell_type": "code",
   "execution_count": 8,
   "id": "513e5b5a-a720-426e-b120-3845b7d41dc3",
   "metadata": {},
   "outputs": [],
   "source": [
    "import warnings\n",
    "warnings.filterwarnings(\"ignore\")"
   ]
  },
  {
   "cell_type": "code",
   "execution_count": 9,
   "id": "95dbfd3b-9fb9-44ee-a47c-d4ca21beb7ea",
   "metadata": {},
   "outputs": [],
   "source": [
    "#определяем константы\n",
    "\n",
    "TEST_SIZE=0.25\n",
    "RANDOM_STATE=42"
   ]
  },
  {
   "cell_type": "markdown",
   "id": "9606face-6ab7-4da8-8cc5-13ea3977ceb5",
   "metadata": {},
   "source": [
    "## Загрузка и ознакомление с данными"
   ]
  },
  {
   "cell_type": "code",
   "execution_count": 66,
   "id": "e978e6b8-6fb7-4d1d-8c91-9c55ebe3ca48",
   "metadata": {},
   "outputs": [],
   "source": [
    "train = pd.read_csv(\"/Users/ADMINX/Project startup/kaggle_startups_train_28062024.csv\")"
   ]
  },
  {
   "cell_type": "code",
   "execution_count": 67,
   "id": "55053a8b-fb1b-46d6-b4c6-74bc293665b3",
   "metadata": {
    "scrolled": true
   },
   "outputs": [
    {
     "data": {
      "text/html": [
       "<div>\n",
       "<style scoped>\n",
       "    .dataframe tbody tr th:only-of-type {\n",
       "        vertical-align: middle;\n",
       "    }\n",
       "\n",
       "    .dataframe tbody tr th {\n",
       "        vertical-align: top;\n",
       "    }\n",
       "\n",
       "    .dataframe thead th {\n",
       "        text-align: right;\n",
       "    }\n",
       "</style>\n",
       "<table border=\"1\" class=\"dataframe\">\n",
       "  <thead>\n",
       "    <tr style=\"text-align: right;\">\n",
       "      <th></th>\n",
       "      <th>name</th>\n",
       "      <th>category_list</th>\n",
       "      <th>funding_total_usd</th>\n",
       "      <th>status</th>\n",
       "      <th>country_code</th>\n",
       "      <th>state_code</th>\n",
       "      <th>region</th>\n",
       "      <th>city</th>\n",
       "      <th>funding_rounds</th>\n",
       "      <th>founded_at</th>\n",
       "      <th>first_funding_at</th>\n",
       "      <th>last_funding_at</th>\n",
       "      <th>closed_at</th>\n",
       "    </tr>\n",
       "  </thead>\n",
       "  <tbody>\n",
       "    <tr>\n",
       "      <th>0</th>\n",
       "      <td>Lunchgate</td>\n",
       "      <td>Online Reservations|Restaurants</td>\n",
       "      <td>828626.0</td>\n",
       "      <td>operating</td>\n",
       "      <td>CHE</td>\n",
       "      <td>25</td>\n",
       "      <td>Zurich</td>\n",
       "      <td>Zürich</td>\n",
       "      <td>2</td>\n",
       "      <td>2009-10-17</td>\n",
       "      <td>2011-05-01</td>\n",
       "      <td>2014-12-01</td>\n",
       "      <td>NaN</td>\n",
       "    </tr>\n",
       "    <tr>\n",
       "      <th>1</th>\n",
       "      <td>EarLens</td>\n",
       "      <td>Manufacturing|Medical|Medical Devices</td>\n",
       "      <td>42935019.0</td>\n",
       "      <td>operating</td>\n",
       "      <td>USA</td>\n",
       "      <td>CA</td>\n",
       "      <td>SF Bay Area</td>\n",
       "      <td>Redwood City</td>\n",
       "      <td>4</td>\n",
       "      <td>2005-01-01</td>\n",
       "      <td>2010-05-04</td>\n",
       "      <td>2014-02-25</td>\n",
       "      <td>NaN</td>\n",
       "    </tr>\n",
       "    <tr>\n",
       "      <th>2</th>\n",
       "      <td>Reviva Pharmaceuticals</td>\n",
       "      <td>Biotechnology</td>\n",
       "      <td>35456381.0</td>\n",
       "      <td>operating</td>\n",
       "      <td>USA</td>\n",
       "      <td>CA</td>\n",
       "      <td>SF Bay Area</td>\n",
       "      <td>San Jose</td>\n",
       "      <td>3</td>\n",
       "      <td>2006-01-01</td>\n",
       "      <td>2012-08-20</td>\n",
       "      <td>2014-07-02</td>\n",
       "      <td>NaN</td>\n",
       "    </tr>\n",
       "    <tr>\n",
       "      <th>3</th>\n",
       "      <td>Sancilio and Company</td>\n",
       "      <td>Health Care</td>\n",
       "      <td>22250000.0</td>\n",
       "      <td>operating</td>\n",
       "      <td>NaN</td>\n",
       "      <td>NaN</td>\n",
       "      <td>NaN</td>\n",
       "      <td>NaN</td>\n",
       "      <td>3</td>\n",
       "      <td>2004-01-01</td>\n",
       "      <td>2011-09-01</td>\n",
       "      <td>2014-07-18</td>\n",
       "      <td>NaN</td>\n",
       "    </tr>\n",
       "    <tr>\n",
       "      <th>4</th>\n",
       "      <td>WireTough Cylinders</td>\n",
       "      <td>Manufacturing</td>\n",
       "      <td>NaN</td>\n",
       "      <td>operating</td>\n",
       "      <td>USA</td>\n",
       "      <td>VA</td>\n",
       "      <td>VA - Other</td>\n",
       "      <td>Bristol</td>\n",
       "      <td>1</td>\n",
       "      <td>2010-05-12</td>\n",
       "      <td>2012-02-01</td>\n",
       "      <td>2012-02-01</td>\n",
       "      <td>NaN</td>\n",
       "    </tr>\n",
       "  </tbody>\n",
       "</table>\n",
       "</div>"
      ],
      "text/plain": [
       "                     name                          category_list  \\\n",
       "0               Lunchgate        Online Reservations|Restaurants   \n",
       "1                 EarLens  Manufacturing|Medical|Medical Devices   \n",
       "2  Reviva Pharmaceuticals                          Biotechnology   \n",
       "3    Sancilio and Company                            Health Care   \n",
       "4     WireTough Cylinders                          Manufacturing   \n",
       "\n",
       "   funding_total_usd     status country_code state_code       region  \\\n",
       "0           828626.0  operating          CHE         25       Zurich   \n",
       "1         42935019.0  operating          USA         CA  SF Bay Area   \n",
       "2         35456381.0  operating          USA         CA  SF Bay Area   \n",
       "3         22250000.0  operating          NaN        NaN          NaN   \n",
       "4                NaN  operating          USA         VA   VA - Other   \n",
       "\n",
       "           city  funding_rounds  founded_at first_funding_at last_funding_at  \\\n",
       "0        Zürich               2  2009-10-17       2011-05-01      2014-12-01   \n",
       "1  Redwood City               4  2005-01-01       2010-05-04      2014-02-25   \n",
       "2      San Jose               3  2006-01-01       2012-08-20      2014-07-02   \n",
       "3           NaN               3  2004-01-01       2011-09-01      2014-07-18   \n",
       "4       Bristol               1  2010-05-12       2012-02-01      2012-02-01   \n",
       "\n",
       "  closed_at  \n",
       "0       NaN  \n",
       "1       NaN  \n",
       "2       NaN  \n",
       "3       NaN  \n",
       "4       NaN  "
      ]
     },
     "execution_count": 67,
     "metadata": {},
     "output_type": "execute_result"
    }
   ],
   "source": [
    "train.head()"
   ]
  },
  {
   "cell_type": "code",
   "execution_count": 68,
   "id": "ee1ec014-b024-40ec-8e28-f801e48be0de",
   "metadata": {},
   "outputs": [
    {
     "data": {
      "text/plain": [
       "(52516, 13)"
      ]
     },
     "execution_count": 68,
     "metadata": {},
     "output_type": "execute_result"
    }
   ],
   "source": [
    "train.shape"
   ]
  },
  {
   "cell_type": "code",
   "execution_count": 69,
   "id": "b25473cb-9ed5-4c62-87f9-60d7a6c8edf6",
   "metadata": {},
   "outputs": [],
   "source": [
    "test = pd.read_csv(\"/Users/ADMINX/Project startup/kaggle_startups_test_28062024.csv\")"
   ]
  },
  {
   "cell_type": "code",
   "execution_count": 70,
   "id": "b7098236-58ca-414b-8f4c-7b68398b9834",
   "metadata": {
    "scrolled": true
   },
   "outputs": [
    {
     "data": {
      "text/html": [
       "<div>\n",
       "<style scoped>\n",
       "    .dataframe tbody tr th:only-of-type {\n",
       "        vertical-align: middle;\n",
       "    }\n",
       "\n",
       "    .dataframe tbody tr th {\n",
       "        vertical-align: top;\n",
       "    }\n",
       "\n",
       "    .dataframe thead th {\n",
       "        text-align: right;\n",
       "    }\n",
       "</style>\n",
       "<table border=\"1\" class=\"dataframe\">\n",
       "  <thead>\n",
       "    <tr style=\"text-align: right;\">\n",
       "      <th></th>\n",
       "      <th>name</th>\n",
       "      <th>category_list</th>\n",
       "      <th>funding_total_usd</th>\n",
       "      <th>country_code</th>\n",
       "      <th>state_code</th>\n",
       "      <th>region</th>\n",
       "      <th>city</th>\n",
       "      <th>funding_rounds</th>\n",
       "      <th>first_funding_at</th>\n",
       "      <th>last_funding_at</th>\n",
       "      <th>lifetime</th>\n",
       "    </tr>\n",
       "  </thead>\n",
       "  <tbody>\n",
       "    <tr>\n",
       "      <th>0</th>\n",
       "      <td>Crystalsol</td>\n",
       "      <td>Clean Technology</td>\n",
       "      <td>2819200.0</td>\n",
       "      <td>NIC</td>\n",
       "      <td>17</td>\n",
       "      <td>NaN</td>\n",
       "      <td>NaN</td>\n",
       "      <td>1</td>\n",
       "      <td>2009-07-01</td>\n",
       "      <td>2009-07-01</td>\n",
       "      <td>3501</td>\n",
       "    </tr>\n",
       "    <tr>\n",
       "      <th>1</th>\n",
       "      <td>JBI Fish &amp; Wings</td>\n",
       "      <td>Hospitality</td>\n",
       "      <td>NaN</td>\n",
       "      <td>USA</td>\n",
       "      <td>TN</td>\n",
       "      <td>TN - Other</td>\n",
       "      <td>Humboldt</td>\n",
       "      <td>1</td>\n",
       "      <td>2010-07-28</td>\n",
       "      <td>2010-07-28</td>\n",
       "      <td>2717</td>\n",
       "    </tr>\n",
       "    <tr>\n",
       "      <th>2</th>\n",
       "      <td>COINPLUS</td>\n",
       "      <td>Finance</td>\n",
       "      <td>428257.0</td>\n",
       "      <td>LUX</td>\n",
       "      <td>3</td>\n",
       "      <td>Esch-sur-alzette</td>\n",
       "      <td>Esch-sur-alzette</td>\n",
       "      <td>2</td>\n",
       "      <td>2014-05-15</td>\n",
       "      <td>2014-09-18</td>\n",
       "      <td>1295</td>\n",
       "    </tr>\n",
       "    <tr>\n",
       "      <th>3</th>\n",
       "      <td>Imagine Communications</td>\n",
       "      <td>Software|Video|Video Streaming</td>\n",
       "      <td>34700000.0</td>\n",
       "      <td>USA</td>\n",
       "      <td>CA</td>\n",
       "      <td>San Diego</td>\n",
       "      <td>San Diego</td>\n",
       "      <td>4</td>\n",
       "      <td>2005-01-01</td>\n",
       "      <td>2010-04-20</td>\n",
       "      <td>4748</td>\n",
       "    </tr>\n",
       "    <tr>\n",
       "      <th>4</th>\n",
       "      <td>DNA13</td>\n",
       "      <td>Software</td>\n",
       "      <td>4530000.0</td>\n",
       "      <td>CAN</td>\n",
       "      <td>ON</td>\n",
       "      <td>Ottawa</td>\n",
       "      <td>Ottawa</td>\n",
       "      <td>1</td>\n",
       "      <td>2007-05-08</td>\n",
       "      <td>2007-05-08</td>\n",
       "      <td>6209</td>\n",
       "    </tr>\n",
       "  </tbody>\n",
       "</table>\n",
       "</div>"
      ],
      "text/plain": [
       "                     name                   category_list  funding_total_usd  \\\n",
       "0              Crystalsol                Clean Technology          2819200.0   \n",
       "1        JBI Fish & Wings                     Hospitality                NaN   \n",
       "2                COINPLUS                         Finance           428257.0   \n",
       "3  Imagine Communications  Software|Video|Video Streaming         34700000.0   \n",
       "4                   DNA13                        Software          4530000.0   \n",
       "\n",
       "  country_code state_code            region              city  funding_rounds  \\\n",
       "0          NIC         17               NaN               NaN               1   \n",
       "1          USA         TN        TN - Other          Humboldt               1   \n",
       "2          LUX          3  Esch-sur-alzette  Esch-sur-alzette               2   \n",
       "3          USA         CA         San Diego         San Diego               4   \n",
       "4          CAN         ON            Ottawa            Ottawa               1   \n",
       "\n",
       "  first_funding_at last_funding_at  lifetime  \n",
       "0       2009-07-01      2009-07-01      3501  \n",
       "1       2010-07-28      2010-07-28      2717  \n",
       "2       2014-05-15      2014-09-18      1295  \n",
       "3       2005-01-01      2010-04-20      4748  \n",
       "4       2007-05-08      2007-05-08      6209  "
      ]
     },
     "execution_count": 70,
     "metadata": {},
     "output_type": "execute_result"
    }
   ],
   "source": [
    "test.head()"
   ]
  },
  {
   "cell_type": "code",
   "execution_count": 71,
   "id": "6199521f-4773-403e-a6e0-b9e47b6cf451",
   "metadata": {},
   "outputs": [
    {
     "data": {
      "text/plain": [
       "(13125, 11)"
      ]
     },
     "execution_count": 71,
     "metadata": {},
     "output_type": "execute_result"
    }
   ],
   "source": [
    "test.shape"
   ]
  },
  {
   "cell_type": "code",
   "execution_count": 72,
   "id": "0bb97cf7-054f-485f-95dd-7e15f27f3279",
   "metadata": {},
   "outputs": [
    {
     "name": "stdout",
     "output_type": "stream",
     "text": [
      "<class 'pandas.core.frame.DataFrame'>\n",
      "RangeIndex: 52516 entries, 0 to 52515\n",
      "Data columns (total 13 columns):\n",
      " #   Column             Non-Null Count  Dtype  \n",
      "---  ------             --------------  -----  \n",
      " 0   name               52515 non-null  object \n",
      " 1   category_list      50051 non-null  object \n",
      " 2   funding_total_usd  42447 non-null  float64\n",
      " 3   status             52516 non-null  object \n",
      " 4   country_code       47014 non-null  object \n",
      " 5   state_code         45753 non-null  object \n",
      " 6   region             46157 non-null  object \n",
      " 7   city               46157 non-null  object \n",
      " 8   funding_rounds     52516 non-null  int64  \n",
      " 9   founded_at         52516 non-null  object \n",
      " 10  first_funding_at   52516 non-null  object \n",
      " 11  last_funding_at    52516 non-null  object \n",
      " 12  closed_at          4917 non-null   object \n",
      "dtypes: float64(1), int64(1), object(11)\n",
      "memory usage: 5.2+ MB\n"
     ]
    }
   ],
   "source": [
    "train.info()"
   ]
  },
  {
   "cell_type": "code",
   "execution_count": 73,
   "id": "e3837ec9-4a3d-4211-9e5a-987b73b96fc9",
   "metadata": {},
   "outputs": [
    {
     "name": "stdout",
     "output_type": "stream",
     "text": [
      "<class 'pandas.core.frame.DataFrame'>\n",
      "RangeIndex: 13125 entries, 0 to 13124\n",
      "Data columns (total 11 columns):\n",
      " #   Column             Non-Null Count  Dtype  \n",
      "---  ------             --------------  -----  \n",
      " 0   name               13125 non-null  object \n",
      " 1   category_list      12534 non-null  object \n",
      " 2   funding_total_usd  10547 non-null  float64\n",
      " 3   country_code       11743 non-null  object \n",
      " 4   state_code         11430 non-null  object \n",
      " 5   region             11536 non-null  object \n",
      " 6   city               11538 non-null  object \n",
      " 7   funding_rounds     13125 non-null  int64  \n",
      " 8   first_funding_at   13125 non-null  object \n",
      " 9   last_funding_at    13125 non-null  object \n",
      " 10  lifetime           13125 non-null  int64  \n",
      "dtypes: float64(1), int64(2), object(8)\n",
      "memory usage: 1.1+ MB\n"
     ]
    }
   ],
   "source": [
    "test.info()"
   ]
  },
  {
   "cell_type": "markdown",
   "id": "ac5171ce-8003-47ea-9606-f236734815a0",
   "metadata": {},
   "source": [
    "<div style=\"background: #bbdb92\"><b>Выводы по разделу \"Загрузка и ознакомление с данными\"</b>\n",
    "<br><br><div style=\"background: #bbdb92\">Файлы загружены, данные соответствуют описанию данных.\n",
    "<br><br>Тренировочная выборка содержит 52.516 строк и 13 признаков. Целевой признак - status.\n",
    "<br><br>Тестовая выборка содержит 13.125 строк и 11 признаков. Необходимо предсказать значение 'status' для каждого стартапа из этого датасета.\n",
    "<br><br>Нужно преобразовать признаки с датами в тип datetime.</div>"
   ]
  },
  {
   "cell_type": "markdown",
   "id": "5d46c0d1-b709-4192-ba88-ef548fe83cee",
   "metadata": {},
   "source": [
    "## Предобработка данных"
   ]
  },
  {
   "cell_type": "markdown",
   "id": "77999389-9202-49bf-b335-2538650fc00a",
   "metadata": {},
   "source": [
    "<div style=\"background: #f5f7c4\">Заменим тип данных столбцов с датами на тип datetime и оставим лишь год. </div>"
   ]
  },
  {
   "cell_type": "code",
   "execution_count": 74,
   "id": "a1361fba-4651-4c15-8108-cc4acd296e01",
   "metadata": {},
   "outputs": [],
   "source": [
    "train['founded_at'] = pd.to_datetime(train['founded_at']).dt.year.astype(int)\n",
    "train['first_funding_at'] = pd.to_datetime(train['first_funding_at']).dt.year.astype(int)\n",
    "train['last_funding_at'] = pd.to_datetime(train['last_funding_at']).dt.year.astype(int)\n",
    "\n",
    "test['first_funding_at'] = pd.to_datetime(test['first_funding_at']).dt.year.astype(int)\n",
    "test['last_funding_at'] = pd.to_datetime(test['last_funding_at']).dt.year.astype(int)"
   ]
  },
  {
   "cell_type": "code",
   "execution_count": 75,
   "id": "2fd26f4e-db8b-4273-b104-f27d1e1568c4",
   "metadata": {},
   "outputs": [
    {
     "name": "stdout",
     "output_type": "stream",
     "text": [
      "<class 'pandas.core.frame.DataFrame'>\n",
      "RangeIndex: 52516 entries, 0 to 52515\n",
      "Data columns (total 13 columns):\n",
      " #   Column             Non-Null Count  Dtype  \n",
      "---  ------             --------------  -----  \n",
      " 0   name               52515 non-null  object \n",
      " 1   category_list      50051 non-null  object \n",
      " 2   funding_total_usd  42447 non-null  float64\n",
      " 3   status             52516 non-null  object \n",
      " 4   country_code       47014 non-null  object \n",
      " 5   state_code         45753 non-null  object \n",
      " 6   region             46157 non-null  object \n",
      " 7   city               46157 non-null  object \n",
      " 8   funding_rounds     52516 non-null  int64  \n",
      " 9   founded_at         52516 non-null  int32  \n",
      " 10  first_funding_at   52516 non-null  int32  \n",
      " 11  last_funding_at    52516 non-null  int32  \n",
      " 12  closed_at          4917 non-null   object \n",
      "dtypes: float64(1), int32(3), int64(1), object(8)\n",
      "memory usage: 4.6+ MB\n"
     ]
    }
   ],
   "source": [
    "train.info()"
   ]
  },
  {
   "cell_type": "markdown",
   "id": "35773810-e4d2-4bd7-b7ee-bbddfa38b78b",
   "metadata": {},
   "source": [
    "<div style=\"background: #f5f7c4\">Проверим наличие пропусков в файлах."
   ]
  },
  {
   "cell_type": "code",
   "execution_count": 20,
   "id": "2535b7df-2a8e-4289-861e-1195be6c1cd1",
   "metadata": {},
   "outputs": [
    {
     "data": {
      "text/plain": [
       "name                     1\n",
       "category_list         2465\n",
       "funding_total_usd    10069\n",
       "status                   0\n",
       "country_code          5502\n",
       "state_code            6763\n",
       "region                6359\n",
       "city                  6359\n",
       "funding_rounds           0\n",
       "founded_at               0\n",
       "first_funding_at         0\n",
       "last_funding_at          0\n",
       "closed_at            47599\n",
       "dtype: int64"
      ]
     },
     "execution_count": 20,
     "metadata": {},
     "output_type": "execute_result"
    }
   ],
   "source": [
    "train.isna().sum()"
   ]
  },
  {
   "cell_type": "code",
   "execution_count": 21,
   "id": "35139228-fb65-4f01-828f-e1a6e2b75af5",
   "metadata": {},
   "outputs": [
    {
     "data": {
      "text/plain": [
       "name                    0\n",
       "category_list         591\n",
       "funding_total_usd    2578\n",
       "country_code         1382\n",
       "state_code           1695\n",
       "region               1589\n",
       "city                 1587\n",
       "funding_rounds          0\n",
       "first_funding_at        0\n",
       "last_funding_at         0\n",
       "lifetime                0\n",
       "dtype: int64"
      ]
     },
     "execution_count": 21,
     "metadata": {},
     "output_type": "execute_result"
    }
   ],
   "source": [
    "test.isna().sum()"
   ]
  },
  {
   "cell_type": "markdown",
   "id": "cdbc5326-5a86-42dc-b250-c07c77cead4a",
   "metadata": {},
   "source": [
    "<div style=\"background: #f5f7c4\">Пропусков довольно много в обоих файлах. Проверим наличие явных дубликатов.</div>"
   ]
  },
  {
   "cell_type": "code",
   "execution_count": 22,
   "id": "f950991d-3762-4037-a4ae-6ebf5b4f9db2",
   "metadata": {},
   "outputs": [
    {
     "data": {
      "text/plain": [
       "0"
      ]
     },
     "execution_count": 22,
     "metadata": {},
     "output_type": "execute_result"
    }
   ],
   "source": [
    "train.duplicated().sum()"
   ]
  },
  {
   "cell_type": "code",
   "execution_count": 23,
   "id": "8853e332-df57-4e31-9cdf-f4e7dbd2e649",
   "metadata": {},
   "outputs": [
    {
     "data": {
      "text/plain": [
       "0"
      ]
     },
     "execution_count": 23,
     "metadata": {},
     "output_type": "execute_result"
    }
   ],
   "source": [
    "test.duplicated().sum()"
   ]
  },
  {
   "cell_type": "markdown",
   "id": "84c4c84f-3479-43aa-83eb-116f2a4ccaf7",
   "metadata": {},
   "source": [
    "<div style=\"background: #f5f7c4\">Проверим наличие НЕявных дубликатов.</div>"
   ]
  },
  {
   "cell_type": "code",
   "execution_count": 24,
   "id": "baee3414-b8d9-40d5-a3ea-cda242b06e16",
   "metadata": {},
   "outputs": [],
   "source": [
    "#список категориальных признаков train\n",
    "\n",
    "cat_col = ['category_list', 'country_code', 'state_code', 'region', 'city']"
   ]
  },
  {
   "cell_type": "code",
   "execution_count": 25,
   "id": "ead1c088-a44e-434c-9f8e-4a29341d7e8f",
   "metadata": {},
   "outputs": [
    {
     "name": "stdout",
     "output_type": "stream",
     "text": [
      "Уникальные значения category_list: ['Online Reservations|Restaurants' 'Manufacturing|Medical|Medical Devices'\n",
      " 'Biotechnology' ... 'Gambling|Games|Online Gaming|Sports'\n",
      " 'Aerospace|Mobile|Transportation|Travel'\n",
      " 'Online Rental|Parking|Price Comparison']\n",
      "\n",
      "Уникальные значения country_code: ['CHE' 'USA' nan 'GBR' 'RUS' 'ESP' 'FRA' 'SWE' 'IND' 'KOR' 'AUS' 'TWN'\n",
      " 'CHN' 'HUN' 'CAN' 'FIN' 'BRA' 'EGY' 'PRT' 'ISR' 'CHL' 'SVK' 'NLD' 'ARG'\n",
      " 'ARE' 'JPN' 'IRL' 'DEU' 'LBN' 'EST' 'IDN' 'BEL' 'MEX' 'DNK' 'ITA' 'GRC'\n",
      " 'ROM' 'TUR' 'SGP' 'SAU' 'MYS' 'NGA' 'QAT' 'VNM' 'BGR' 'GHA' 'UGA' 'JOR'\n",
      " 'AUT' 'PAK' 'NZL' 'HKG' 'ZAF' 'LVA' 'NOR' 'HRV' 'VEN' 'PER' 'LUX' 'SVN'\n",
      " 'POL' 'PHL' 'NIC' 'CZE' 'ISL' 'PAN' 'URY' 'BGD' 'MCO' 'GTM' 'THA' 'TTO'\n",
      " 'UKR' 'KEN' 'CRI' 'DZA' 'LTU' 'CYM' 'MUS' 'BLR' 'SLV' 'COL' 'MLT' 'PSE'\n",
      " 'BLZ' 'CYP' 'MMR' 'MKD' 'KHM' 'GIB' 'SRB' 'DOM' 'BWA' 'BLM' 'PRY' 'BMU'\n",
      " 'TAN' 'LIE' 'GRD' 'UZB' 'GEO' 'SEN' 'ALB' 'ECU' 'MOZ' 'LKA' 'LAO' 'TUN'\n",
      " 'HND' 'ZWE' 'BAH' 'MDA' 'MAF' 'BHR' 'AZE' 'MAR' 'KWT' 'IRN' 'GGY' 'KNA'\n",
      " 'PRI' 'OMN' 'KAZ' 'JAM' 'NPL' 'ARM' 'TGO' 'RWA' 'BRN' 'JEY' 'SOM' 'CMR'\n",
      " 'MNE' 'SYC' 'ZMB']\n",
      "\n",
      "Уникальные значения state_code: ['25' 'CA' nan 'VA' 'NJ' 'TX' 'OR' 'FL' 'WA' 'NY' 'C7' 'AZ' '91' 'GA' 'MA'\n",
      " 'PA' 'MI' '56' 'MN' 'A8' 'DE' '26' 'Q5' '7' 'RI' '11' 'C5' 'CO' '3' '23'\n",
      " '1' 'ON' 'IL' 'OH' 'K2' '2' '14' '30' 'H9' 'AL' '29' '6' 'NC' '5' '12'\n",
      " '22' 'MD' '48' 'ND' '40' 'K4' 'VT' '16' '4' 'UT' 'IN' '8' '9' '18' 'CT'\n",
      " '13' 'NV' '10' 'B8' '27' '17' 'IA' 'WI' 'L9' 'NM' 'B7' 'MO' 'BC' '21'\n",
      " 'F7' 'ME' 'NH' '35' 'NS' 'C1' 'C3' 'SC' '20' 'TN' 'A6' '51' 'I7' 'LA'\n",
      " 'KS' '42' 'N7' 'U8' 'I2' 'AR' '19' 'NE' '41' 'QC' 'AB' '37' '15' '97'\n",
      " 'V2' 'D2' 'DC' 'A7' 'C9' 'F8' 'Y2' 'B9' 'J7' 'M9' 'G2' 'H3' 'ID' 'NB'\n",
      " '28' 'V8' '34' 'B5' 'F2' 'A9' 'Z7' '53' 'H8' 'MT' 'MB' 'KY' '61' '60'\n",
      " 'B4' 'H7' '82' 'A2' 'C8' 'L3' 'B3' 'D9' 'M3' 'MS' '31' '33' '52' 'HI'\n",
      " 'AK' '78' '72' 'Q4' 'Y4' 'WY' '32' 'E6' 'Q3' 'F9' '24' 'OK' 'X4' '81'\n",
      " 'A1' '86' 'P4' 'E7' 'P9' '73' 'W5' 'D4' 'E9' 'A4' 'I5' 'B2' 'R3' 'N5'\n",
      " '59' 'K7' 'H5' 'H2' 'N3' 'A5' 'T5' 'G5' 'E8' 'SD' '77' '65' '36' 'WV'\n",
      " '68' 'P3' 'X5' '66' 'D8' 'C6' 'M4' '87' '71' 'J2' '83' 'E4' 'P8' '43'\n",
      " 'J6' 'L1' 'E2' 'O2' 'E5' 'F1' 'N2' 'J8' 'B6' 'A3' '46' 'H4' 'G7' 'Y5'\n",
      " 'P6' '55' 'NL' 'X7' 'P5' '54' '58' 'Y7' 'R6' '47' 'U3' 'K3' '88' 'D3'\n",
      " '45' '49' 'F5' 'Y9' 'Y6' 'P1' 'I6' 'VI' 'Z1' 'I4' 'W6' 'SK' 'W1' '50'\n",
      " 'B1' 'W2' 'W9' 'N4' 'V3' 'O1' 'E1' 'T6' 'I9' 'T7' '99' 'N1' '39' 'P2'\n",
      " '57' 'V7' 'Q2' 'K8' 'F4' 'G1' '98' 'D5' 'V1' '38' '44' 'X1' 'J1' 'J9'\n",
      " 'PE' 'Q1' 'Y1' 'L6' 'G8' '89' 'X3' 'T8' 'J4' '62' 'GU' 'W4' 'G3' 'L7'\n",
      " 'U1' 'Z8' 'E3' 'X2' 'M5' '90' 'M2' 'L8' 'V6' 'Q6' 'D6' 'D7' 'M8' 'J3'\n",
      " 'NU' 'V5' 'U6']\n",
      "\n",
      "Уникальные значения region: ['Zurich' 'SF Bay Area' nan ... 'Haywards Heath' 'Herzogenaurach'\n",
      " 'Doncaster']\n",
      "\n",
      "Уникальные значения city: ['Zürich' 'Redwood City' 'San Jose' ... 'Circleville' 'Doncaster'\n",
      " 'Centreville']\n",
      "\n"
     ]
    }
   ],
   "source": [
    "#вывод уникальных значений train\n",
    "\n",
    "for i in cat_col:\n",
    "    print(f'Уникальные значения {i}: {train[i].unique()}')\n",
    "    print()"
   ]
  },
  {
   "cell_type": "code",
   "execution_count": 26,
   "id": "c32367cd-7b2c-438b-96ee-81a3f112d6e5",
   "metadata": {},
   "outputs": [
    {
     "name": "stdout",
     "output_type": "stream",
     "text": [
      "Кол-во уникальных значений category_list: 22105\n",
      "Кол-во уникальных значений country_code: 134\n",
      "Кол-во уникальных значений state_code: 300\n",
      "Кол-во уникальных значений region: 1036\n",
      "Кол-во уникальных значений city: 4477\n"
     ]
    }
   ],
   "source": [
    "#вывод количества уникальных значений train\n",
    "\n",
    "for i in cat_col:\n",
    "    print(f'Кол-во уникальных значений {i}: {train[i].nunique()}')"
   ]
  },
  {
   "cell_type": "markdown",
   "id": "5afddf52-b6b3-4557-8dd5-78fa251e1a7e",
   "metadata": {},
   "source": [
    "<div style=\"background: #f5f7c4\">Уникальных значений также много, логично предположить, что state_code для США обозначает код штата или провинции, а для других стран код города/региона.</div>"
   ]
  },
  {
   "cell_type": "code",
   "execution_count": 27,
   "id": "4fb2f514-485d-4022-95d0-14ebb44811b7",
   "metadata": {},
   "outputs": [
    {
     "data": {
      "text/html": [
       "<div>\n",
       "<style scoped>\n",
       "    .dataframe tbody tr th:only-of-type {\n",
       "        vertical-align: middle;\n",
       "    }\n",
       "\n",
       "    .dataframe tbody tr th {\n",
       "        vertical-align: top;\n",
       "    }\n",
       "\n",
       "    .dataframe thead th {\n",
       "        text-align: right;\n",
       "    }\n",
       "</style>\n",
       "<table border=\"1\" class=\"dataframe\">\n",
       "  <thead>\n",
       "    <tr style=\"text-align: right;\">\n",
       "      <th></th>\n",
       "      <th>name</th>\n",
       "      <th>category_list</th>\n",
       "      <th>funding_total_usd</th>\n",
       "      <th>status</th>\n",
       "      <th>country_code</th>\n",
       "      <th>state_code</th>\n",
       "      <th>region</th>\n",
       "      <th>city</th>\n",
       "      <th>funding_rounds</th>\n",
       "      <th>founded_at</th>\n",
       "      <th>first_funding_at</th>\n",
       "      <th>last_funding_at</th>\n",
       "      <th>closed_at</th>\n",
       "    </tr>\n",
       "  </thead>\n",
       "  <tbody>\n",
       "    <tr>\n",
       "      <th>3</th>\n",
       "      <td>Sancilio and Company</td>\n",
       "      <td>Health Care</td>\n",
       "      <td>2.225000e+07</td>\n",
       "      <td>operating</td>\n",
       "      <td>NaN</td>\n",
       "      <td>NaN</td>\n",
       "      <td>NaN</td>\n",
       "      <td>NaN</td>\n",
       "      <td>3</td>\n",
       "      <td>2004</td>\n",
       "      <td>2011</td>\n",
       "      <td>2014</td>\n",
       "      <td>NaN</td>\n",
       "    </tr>\n",
       "    <tr>\n",
       "      <th>12</th>\n",
       "      <td>Iberic Premium</td>\n",
       "      <td>NaN</td>\n",
       "      <td>1.072390e+05</td>\n",
       "      <td>closed</td>\n",
       "      <td>NaN</td>\n",
       "      <td>NaN</td>\n",
       "      <td>NaN</td>\n",
       "      <td>NaN</td>\n",
       "      <td>1</td>\n",
       "      <td>2013</td>\n",
       "      <td>2014</td>\n",
       "      <td>2014</td>\n",
       "      <td>2015-07-10</td>\n",
       "    </tr>\n",
       "    <tr>\n",
       "      <th>14</th>\n",
       "      <td>Purewine</td>\n",
       "      <td>Nanotechnology|Technology|Wine And Spirits</td>\n",
       "      <td>3.350000e+05</td>\n",
       "      <td>operating</td>\n",
       "      <td>NaN</td>\n",
       "      <td>NaN</td>\n",
       "      <td>NaN</td>\n",
       "      <td>NaN</td>\n",
       "      <td>2</td>\n",
       "      <td>2014</td>\n",
       "      <td>2014</td>\n",
       "      <td>2015</td>\n",
       "      <td>NaN</td>\n",
       "    </tr>\n",
       "    <tr>\n",
       "      <th>15</th>\n",
       "      <td>paack</td>\n",
       "      <td>Customer Service|Delivery|Retail</td>\n",
       "      <td>3.000000e+04</td>\n",
       "      <td>operating</td>\n",
       "      <td>NaN</td>\n",
       "      <td>NaN</td>\n",
       "      <td>NaN</td>\n",
       "      <td>NaN</td>\n",
       "      <td>1</td>\n",
       "      <td>2013</td>\n",
       "      <td>2015</td>\n",
       "      <td>2015</td>\n",
       "      <td>NaN</td>\n",
       "    </tr>\n",
       "    <tr>\n",
       "      <th>16</th>\n",
       "      <td>Salesjob</td>\n",
       "      <td>NaN</td>\n",
       "      <td>NaN</td>\n",
       "      <td>closed</td>\n",
       "      <td>NaN</td>\n",
       "      <td>NaN</td>\n",
       "      <td>NaN</td>\n",
       "      <td>NaN</td>\n",
       "      <td>1</td>\n",
       "      <td>2013</td>\n",
       "      <td>2013</td>\n",
       "      <td>2013</td>\n",
       "      <td>2015-08-11</td>\n",
       "    </tr>\n",
       "    <tr>\n",
       "      <th>...</th>\n",
       "      <td>...</td>\n",
       "      <td>...</td>\n",
       "      <td>...</td>\n",
       "      <td>...</td>\n",
       "      <td>...</td>\n",
       "      <td>...</td>\n",
       "      <td>...</td>\n",
       "      <td>...</td>\n",
       "      <td>...</td>\n",
       "      <td>...</td>\n",
       "      <td>...</td>\n",
       "      <td>...</td>\n",
       "      <td>...</td>\n",
       "    </tr>\n",
       "    <tr>\n",
       "      <th>52444</th>\n",
       "      <td>Plix</td>\n",
       "      <td>Advertising|Digital Media|Games|Social Media|T...</td>\n",
       "      <td>4.000000e+05</td>\n",
       "      <td>closed</td>\n",
       "      <td>NaN</td>\n",
       "      <td>NaN</td>\n",
       "      <td>NaN</td>\n",
       "      <td>NaN</td>\n",
       "      <td>1</td>\n",
       "      <td>2011</td>\n",
       "      <td>2012</td>\n",
       "      <td>2012</td>\n",
       "      <td>2013-05-05</td>\n",
       "    </tr>\n",
       "    <tr>\n",
       "      <th>52449</th>\n",
       "      <td>ELabsEurope</td>\n",
       "      <td>Internet|Life Sciences|Medical</td>\n",
       "      <td>2.000000e+07</td>\n",
       "      <td>closed</td>\n",
       "      <td>NaN</td>\n",
       "      <td>NaN</td>\n",
       "      <td>NaN</td>\n",
       "      <td>NaN</td>\n",
       "      <td>1</td>\n",
       "      <td>1999</td>\n",
       "      <td>2000</td>\n",
       "      <td>2000</td>\n",
       "      <td>2002-05-17</td>\n",
       "    </tr>\n",
       "    <tr>\n",
       "      <th>52455</th>\n",
       "      <td>Capcom groupe</td>\n",
       "      <td>Construction|Optical Communications|Telecommun...</td>\n",
       "      <td>1.065315e+07</td>\n",
       "      <td>closed</td>\n",
       "      <td>NaN</td>\n",
       "      <td>NaN</td>\n",
       "      <td>NaN</td>\n",
       "      <td>NaN</td>\n",
       "      <td>1</td>\n",
       "      <td>2014</td>\n",
       "      <td>2015</td>\n",
       "      <td>2015</td>\n",
       "      <td>2017-04-24</td>\n",
       "    </tr>\n",
       "    <tr>\n",
       "      <th>52473</th>\n",
       "      <td>Vision Software PTY</td>\n",
       "      <td>NaN</td>\n",
       "      <td>1.500000e+07</td>\n",
       "      <td>operating</td>\n",
       "      <td>NaN</td>\n",
       "      <td>NaN</td>\n",
       "      <td>NaN</td>\n",
       "      <td>NaN</td>\n",
       "      <td>1</td>\n",
       "      <td>1998</td>\n",
       "      <td>1999</td>\n",
       "      <td>1999</td>\n",
       "      <td>NaN</td>\n",
       "    </tr>\n",
       "    <tr>\n",
       "      <th>52500</th>\n",
       "      <td>meetnlearn</td>\n",
       "      <td>Education</td>\n",
       "      <td>3.283930e+05</td>\n",
       "      <td>operating</td>\n",
       "      <td>NaN</td>\n",
       "      <td>NaN</td>\n",
       "      <td>NaN</td>\n",
       "      <td>NaN</td>\n",
       "      <td>2</td>\n",
       "      <td>2014</td>\n",
       "      <td>2014</td>\n",
       "      <td>2015</td>\n",
       "      <td>NaN</td>\n",
       "    </tr>\n",
       "  </tbody>\n",
       "</table>\n",
       "<p>5502 rows × 13 columns</p>\n",
       "</div>"
      ],
      "text/plain": [
       "                       name  \\\n",
       "3      Sancilio and Company   \n",
       "12           Iberic Premium   \n",
       "14                 Purewine   \n",
       "15                    paack   \n",
       "16                 Salesjob   \n",
       "...                     ...   \n",
       "52444                  Plix   \n",
       "52449           ELabsEurope   \n",
       "52455         Capcom groupe   \n",
       "52473   Vision Software PTY   \n",
       "52500            meetnlearn   \n",
       "\n",
       "                                           category_list  funding_total_usd  \\\n",
       "3                                            Health Care       2.225000e+07   \n",
       "12                                                   NaN       1.072390e+05   \n",
       "14            Nanotechnology|Technology|Wine And Spirits       3.350000e+05   \n",
       "15                      Customer Service|Delivery|Retail       3.000000e+04   \n",
       "16                                                   NaN                NaN   \n",
       "...                                                  ...                ...   \n",
       "52444  Advertising|Digital Media|Games|Social Media|T...       4.000000e+05   \n",
       "52449                     Internet|Life Sciences|Medical       2.000000e+07   \n",
       "52455  Construction|Optical Communications|Telecommun...       1.065315e+07   \n",
       "52473                                                NaN       1.500000e+07   \n",
       "52500                                          Education       3.283930e+05   \n",
       "\n",
       "          status country_code state_code region city  funding_rounds  \\\n",
       "3      operating          NaN        NaN    NaN  NaN               3   \n",
       "12        closed          NaN        NaN    NaN  NaN               1   \n",
       "14     operating          NaN        NaN    NaN  NaN               2   \n",
       "15     operating          NaN        NaN    NaN  NaN               1   \n",
       "16        closed          NaN        NaN    NaN  NaN               1   \n",
       "...          ...          ...        ...    ...  ...             ...   \n",
       "52444     closed          NaN        NaN    NaN  NaN               1   \n",
       "52449     closed          NaN        NaN    NaN  NaN               1   \n",
       "52455     closed          NaN        NaN    NaN  NaN               1   \n",
       "52473  operating          NaN        NaN    NaN  NaN               1   \n",
       "52500  operating          NaN        NaN    NaN  NaN               2   \n",
       "\n",
       "       founded_at  first_funding_at  last_funding_at   closed_at  \n",
       "3            2004              2011             2014         NaN  \n",
       "12           2013              2014             2014  2015-07-10  \n",
       "14           2014              2014             2015         NaN  \n",
       "15           2013              2015             2015         NaN  \n",
       "16           2013              2013             2013  2015-08-11  \n",
       "...           ...               ...              ...         ...  \n",
       "52444        2011              2012             2012  2013-05-05  \n",
       "52449        1999              2000             2000  2002-05-17  \n",
       "52455        2014              2015             2015  2017-04-24  \n",
       "52473        1998              1999             1999         NaN  \n",
       "52500        2014              2014             2015         NaN  \n",
       "\n",
       "[5502 rows x 13 columns]"
      ]
     },
     "execution_count": 27,
     "metadata": {},
     "output_type": "execute_result"
    }
   ],
   "source": [
    "#вывод строк с пропусками в 'country_code'\n",
    "\n",
    "train.loc[train['country_code'].isna()]"
   ]
  },
  {
   "cell_type": "markdown",
   "id": "a9d4ec09-2d85-4356-8052-587000493ab0",
   "metadata": {},
   "source": [
    "<div style=\"background: #f5f7c4\">Для 5502 стартапов США неизвестны код страны, код штата/города, регион и город. Заполним их значением unknown.</div>"
   ]
  },
  {
   "cell_type": "code",
   "execution_count": 28,
   "id": "095c7975-dbc0-4b5d-8850-b8c91193ed3e",
   "metadata": {},
   "outputs": [],
   "source": [
    "# пайплайн для заполнения пропусков на unknown\n",
    "\n",
    "simple_imputer_unknown = Pipeline(\n",
    "    [\n",
    "        (\n",
    "            'SimpleImputer', \n",
    "            SimpleImputer(missing_values=np.nan, strategy='constant', fill_value='unknown')\n",
    "        )\n",
    "    ]\n",
    ")"
   ]
  },
  {
   "cell_type": "code",
   "execution_count": 76,
   "id": "6bd6f7f5-657b-44e5-b415-b3f7986f6125",
   "metadata": {},
   "outputs": [],
   "source": [
    "# заполнение пропусков с помощью пайплайна\n",
    "\n",
    "cols_train_address = ['country_code', 'state_code', 'region', 'city']\n",
    "\n",
    "train[cols_train_address] = simple_imputer_unknown.fit_transform(train[cols_train_address])"
   ]
  },
  {
   "cell_type": "markdown",
   "id": "222a7070-c2ae-4fd8-9cae-883f6ebb83c1",
   "metadata": {},
   "source": [
    "<div style=\"background: #f5f7c4\">NaN значения даты закрытия стратапов (closed_at) в статусе \"действующий\" заменим на год формирования выгрузки - 2018</div>"
   ]
  },
  {
   "cell_type": "code",
   "execution_count": 77,
   "id": "6c8cda97-f4e0-4569-965f-96680414d997",
   "metadata": {},
   "outputs": [],
   "source": [
    "train['closed_at'] = pd.to_datetime(train['closed_at']).dt.year\n",
    "train['closed_at'] = train['closed_at'].fillna('2018')"
   ]
  },
  {
   "cell_type": "code",
   "execution_count": 79,
   "id": "61e2ccc1-4b94-43cc-9b43-88cbeea99739",
   "metadata": {},
   "outputs": [
    {
     "data": {
      "text/html": [
       "<div>\n",
       "<style scoped>\n",
       "    .dataframe tbody tr th:only-of-type {\n",
       "        vertical-align: middle;\n",
       "    }\n",
       "\n",
       "    .dataframe tbody tr th {\n",
       "        vertical-align: top;\n",
       "    }\n",
       "\n",
       "    .dataframe thead th {\n",
       "        text-align: right;\n",
       "    }\n",
       "</style>\n",
       "<table border=\"1\" class=\"dataframe\">\n",
       "  <thead>\n",
       "    <tr style=\"text-align: right;\">\n",
       "      <th></th>\n",
       "      <th>name</th>\n",
       "      <th>category_list</th>\n",
       "      <th>funding_total_usd</th>\n",
       "      <th>status</th>\n",
       "      <th>country_code</th>\n",
       "      <th>state_code</th>\n",
       "      <th>region</th>\n",
       "      <th>city</th>\n",
       "      <th>funding_rounds</th>\n",
       "      <th>founded_at</th>\n",
       "      <th>first_funding_at</th>\n",
       "      <th>last_funding_at</th>\n",
       "      <th>closed_at</th>\n",
       "    </tr>\n",
       "  </thead>\n",
       "  <tbody>\n",
       "    <tr>\n",
       "      <th>0</th>\n",
       "      <td>Lunchgate</td>\n",
       "      <td>Online Reservations|Restaurants</td>\n",
       "      <td>828626.0</td>\n",
       "      <td>operating</td>\n",
       "      <td>CHE</td>\n",
       "      <td>25</td>\n",
       "      <td>Zurich</td>\n",
       "      <td>Zürich</td>\n",
       "      <td>2</td>\n",
       "      <td>2009</td>\n",
       "      <td>2011</td>\n",
       "      <td>2014</td>\n",
       "      <td>2018</td>\n",
       "    </tr>\n",
       "    <tr>\n",
       "      <th>1</th>\n",
       "      <td>EarLens</td>\n",
       "      <td>Manufacturing|Medical|Medical Devices</td>\n",
       "      <td>42935019.0</td>\n",
       "      <td>operating</td>\n",
       "      <td>USA</td>\n",
       "      <td>CA</td>\n",
       "      <td>SF Bay Area</td>\n",
       "      <td>Redwood City</td>\n",
       "      <td>4</td>\n",
       "      <td>2005</td>\n",
       "      <td>2010</td>\n",
       "      <td>2014</td>\n",
       "      <td>2018</td>\n",
       "    </tr>\n",
       "    <tr>\n",
       "      <th>2</th>\n",
       "      <td>Reviva Pharmaceuticals</td>\n",
       "      <td>Biotechnology</td>\n",
       "      <td>35456381.0</td>\n",
       "      <td>operating</td>\n",
       "      <td>USA</td>\n",
       "      <td>CA</td>\n",
       "      <td>SF Bay Area</td>\n",
       "      <td>San Jose</td>\n",
       "      <td>3</td>\n",
       "      <td>2006</td>\n",
       "      <td>2012</td>\n",
       "      <td>2014</td>\n",
       "      <td>2018</td>\n",
       "    </tr>\n",
       "    <tr>\n",
       "      <th>3</th>\n",
       "      <td>Sancilio and Company</td>\n",
       "      <td>Health Care</td>\n",
       "      <td>22250000.0</td>\n",
       "      <td>operating</td>\n",
       "      <td>unknown</td>\n",
       "      <td>unknown</td>\n",
       "      <td>unknown</td>\n",
       "      <td>unknown</td>\n",
       "      <td>3</td>\n",
       "      <td>2004</td>\n",
       "      <td>2011</td>\n",
       "      <td>2014</td>\n",
       "      <td>2018</td>\n",
       "    </tr>\n",
       "    <tr>\n",
       "      <th>4</th>\n",
       "      <td>WireTough Cylinders</td>\n",
       "      <td>Manufacturing</td>\n",
       "      <td>NaN</td>\n",
       "      <td>operating</td>\n",
       "      <td>USA</td>\n",
       "      <td>VA</td>\n",
       "      <td>VA - Other</td>\n",
       "      <td>Bristol</td>\n",
       "      <td>1</td>\n",
       "      <td>2010</td>\n",
       "      <td>2012</td>\n",
       "      <td>2012</td>\n",
       "      <td>2018</td>\n",
       "    </tr>\n",
       "    <tr>\n",
       "      <th>...</th>\n",
       "      <td>...</td>\n",
       "      <td>...</td>\n",
       "      <td>...</td>\n",
       "      <td>...</td>\n",
       "      <td>...</td>\n",
       "      <td>...</td>\n",
       "      <td>...</td>\n",
       "      <td>...</td>\n",
       "      <td>...</td>\n",
       "      <td>...</td>\n",
       "      <td>...</td>\n",
       "      <td>...</td>\n",
       "      <td>...</td>\n",
       "    </tr>\n",
       "    <tr>\n",
       "      <th>52511</th>\n",
       "      <td>Videostream</td>\n",
       "      <td>Entertainment</td>\n",
       "      <td>NaN</td>\n",
       "      <td>operating</td>\n",
       "      <td>CAN</td>\n",
       "      <td>ON</td>\n",
       "      <td>Toronto</td>\n",
       "      <td>Kitchener</td>\n",
       "      <td>1</td>\n",
       "      <td>2012</td>\n",
       "      <td>2014</td>\n",
       "      <td>2014</td>\n",
       "      <td>2018</td>\n",
       "    </tr>\n",
       "    <tr>\n",
       "      <th>52512</th>\n",
       "      <td>Hello Curry</td>\n",
       "      <td>Hospitality</td>\n",
       "      <td>500000.0</td>\n",
       "      <td>operating</td>\n",
       "      <td>IND</td>\n",
       "      <td>2</td>\n",
       "      <td>Hyderabad</td>\n",
       "      <td>Hyderabad</td>\n",
       "      <td>1</td>\n",
       "      <td>2013</td>\n",
       "      <td>2014</td>\n",
       "      <td>2014</td>\n",
       "      <td>2018</td>\n",
       "    </tr>\n",
       "    <tr>\n",
       "      <th>52513</th>\n",
       "      <td>Taskforce</td>\n",
       "      <td>Email|Messaging|Productivity Software</td>\n",
       "      <td>50000.0</td>\n",
       "      <td>operating</td>\n",
       "      <td>USA</td>\n",
       "      <td>CA</td>\n",
       "      <td>SF Bay Area</td>\n",
       "      <td>San Francisco</td>\n",
       "      <td>3</td>\n",
       "      <td>2010</td>\n",
       "      <td>2009</td>\n",
       "      <td>2011</td>\n",
       "      <td>2018</td>\n",
       "    </tr>\n",
       "    <tr>\n",
       "      <th>52514</th>\n",
       "      <td>NetScaler</td>\n",
       "      <td>Security</td>\n",
       "      <td>13000000.0</td>\n",
       "      <td>operating</td>\n",
       "      <td>USA</td>\n",
       "      <td>CA</td>\n",
       "      <td>SF Bay Area</td>\n",
       "      <td>San Jose</td>\n",
       "      <td>6</td>\n",
       "      <td>1997</td>\n",
       "      <td>1998</td>\n",
       "      <td>2004</td>\n",
       "      <td>2018</td>\n",
       "    </tr>\n",
       "    <tr>\n",
       "      <th>52515</th>\n",
       "      <td>Apparcando</td>\n",
       "      <td>Online Rental|Parking|Price Comparison</td>\n",
       "      <td>270820.0</td>\n",
       "      <td>operating</td>\n",
       "      <td>ESP</td>\n",
       "      <td>60</td>\n",
       "      <td>Valencia</td>\n",
       "      <td>Valencia</td>\n",
       "      <td>1</td>\n",
       "      <td>2012</td>\n",
       "      <td>2014</td>\n",
       "      <td>2014</td>\n",
       "      <td>2018</td>\n",
       "    </tr>\n",
       "  </tbody>\n",
       "</table>\n",
       "<p>52516 rows × 13 columns</p>\n",
       "</div>"
      ],
      "text/plain": [
       "                         name                           category_list  \\\n",
       "0                   Lunchgate         Online Reservations|Restaurants   \n",
       "1                     EarLens   Manufacturing|Medical|Medical Devices   \n",
       "2      Reviva Pharmaceuticals                           Biotechnology   \n",
       "3        Sancilio and Company                             Health Care   \n",
       "4         WireTough Cylinders                           Manufacturing   \n",
       "...                       ...                                     ...   \n",
       "52511             Videostream                           Entertainment   \n",
       "52512             Hello Curry                             Hospitality   \n",
       "52513               Taskforce   Email|Messaging|Productivity Software   \n",
       "52514               NetScaler                                Security   \n",
       "52515              Apparcando  Online Rental|Parking|Price Comparison   \n",
       "\n",
       "       funding_total_usd     status country_code state_code       region  \\\n",
       "0               828626.0  operating          CHE         25       Zurich   \n",
       "1             42935019.0  operating          USA         CA  SF Bay Area   \n",
       "2             35456381.0  operating          USA         CA  SF Bay Area   \n",
       "3             22250000.0  operating      unknown    unknown      unknown   \n",
       "4                    NaN  operating          USA         VA   VA - Other   \n",
       "...                  ...        ...          ...        ...          ...   \n",
       "52511                NaN  operating          CAN         ON      Toronto   \n",
       "52512           500000.0  operating          IND          2    Hyderabad   \n",
       "52513            50000.0  operating          USA         CA  SF Bay Area   \n",
       "52514         13000000.0  operating          USA         CA  SF Bay Area   \n",
       "52515           270820.0  operating          ESP         60     Valencia   \n",
       "\n",
       "                city  funding_rounds  founded_at  first_funding_at  \\\n",
       "0             Zürich               2        2009              2011   \n",
       "1       Redwood City               4        2005              2010   \n",
       "2           San Jose               3        2006              2012   \n",
       "3            unknown               3        2004              2011   \n",
       "4            Bristol               1        2010              2012   \n",
       "...              ...             ...         ...               ...   \n",
       "52511      Kitchener               1        2012              2014   \n",
       "52512      Hyderabad               1        2013              2014   \n",
       "52513  San Francisco               3        2010              2009   \n",
       "52514       San Jose               6        1997              1998   \n",
       "52515       Valencia               1        2012              2014   \n",
       "\n",
       "       last_funding_at closed_at  \n",
       "0                 2014      2018  \n",
       "1                 2014      2018  \n",
       "2                 2014      2018  \n",
       "3                 2014      2018  \n",
       "4                 2012      2018  \n",
       "...                ...       ...  \n",
       "52511             2014      2018  \n",
       "52512             2014      2018  \n",
       "52513             2011      2018  \n",
       "52514             2004      2018  \n",
       "52515             2014      2018  \n",
       "\n",
       "[52516 rows x 13 columns]"
      ]
     },
     "execution_count": 79,
     "metadata": {},
     "output_type": "execute_result"
    }
   ],
   "source": [
    "train"
   ]
  },
  {
   "cell_type": "code",
   "execution_count": 80,
   "id": "b28a8d5c-ef9e-4e6f-8be6-9e0a3a6987fc",
   "metadata": {},
   "outputs": [],
   "source": [
    "#замена пропуска в названии стратапа на unknown\n",
    "\n",
    "train['name'] = train['name'].fillna('unknown')"
   ]
  },
  {
   "cell_type": "markdown",
   "id": "addb7c10-8253-452f-b65e-e155337171e4",
   "metadata": {},
   "source": [
    "<div style=\"background: #f5f7c4\">Пропуски в категории стартапа заменим на самое часто встречающееся значение.</div>"
   ]
  },
  {
   "cell_type": "code",
   "execution_count": 81,
   "id": "5a2366b2-aadc-44f5-9707-1395806f7cd9",
   "metadata": {},
   "outputs": [],
   "source": [
    "# пайплайн для заполнения пропусков на моду\n",
    "\n",
    "simple_imputer_moda = Pipeline(\n",
    "    [\n",
    "        (\n",
    "            'SimpleImputer', \n",
    "            SimpleImputer(missing_values=np.nan, strategy='most_frequent')\n",
    "        )\n",
    "    ]\n",
    ")"
   ]
  },
  {
   "cell_type": "code",
   "execution_count": 82,
   "id": "1ee1d57e-bba0-409d-83a4-508d25a2fc2d",
   "metadata": {
    "scrolled": true
   },
   "outputs": [],
   "source": [
    "# заполнение пропусков с помощью пайплайна\n",
    "\n",
    "category = ['category_list']\n",
    "\n",
    "train[category] = simple_imputer_moda.fit_transform(train[category])"
   ]
  },
  {
   "cell_type": "code",
   "execution_count": 83,
   "id": "665d9548-23e2-4461-8f68-527b237f7460",
   "metadata": {},
   "outputs": [
    {
     "data": {
      "text/plain": [
       "count    4.244700e+04\n",
       "mean     1.824748e+07\n",
       "std      1.871173e+08\n",
       "min      1.000000e+00\n",
       "25%      3.360275e+05\n",
       "50%      2.000000e+06\n",
       "75%      1.000000e+07\n",
       "max      3.007950e+10\n",
       "Name: funding_total_usd, dtype: float64"
      ]
     },
     "execution_count": 83,
     "metadata": {},
     "output_type": "execute_result"
    }
   ],
   "source": [
    "train['funding_total_usd'].describe()"
   ]
  },
  {
   "cell_type": "code",
   "execution_count": 84,
   "id": "0ea4b2e1-efab-4f58-935b-be89b94fe9a2",
   "metadata": {},
   "outputs": [
    {
     "data": {
      "image/png": "[encoded data removed]",
      "text/plain": [
       "<Figure size 640x480 with 1 Axes>"
      ]
     },
     "metadata": {},
     "output_type": "display_data"
    }
   ],
   "source": [
    "#гистограмма \"Общая сумма финансирования в USD\" train\n",
    "\n",
    "train['funding_total_usd'].hist()\n",
    "plt.title('Распределение общей суммы финансирования')\n",
    "plt.ylabel('кол-во стратапов')\n",
    "plt.xlabel('сумма, USD')\n",
    "plt.show()"
   ]
  },
  {
   "cell_type": "markdown",
   "id": "4a5bad1f-f162-4260-9364-2704a89a0ad4",
   "metadata": {},
   "source": [
    "<div style=\"background: #f5f7c4\">Явно есть выбросы, посмотрим на долю стратапов, получивших сумму выше средней.</div>"
   ]
  },
  {
   "cell_type": "code",
   "execution_count": 85,
   "id": "7f25640f-185f-4574-86a0-ed157c33e10e",
   "metadata": {
    "scrolled": true
   },
   "outputs": [
    {
     "name": "stdout",
     "output_type": "stream",
     "text": [
      "Доля стартапов, получивших сумму финансирования выше средней: 14%\n"
     ]
    }
   ],
   "source": [
    "print(f'Доля стартапов, получивших сумму финансирования выше средней: \\\n",
    "{round((train.query('funding_total_usd > 1.824748e+07'))['name'].count()/(train['name'].count())*100)}%')"
   ]
  },
  {
   "cell_type": "code",
   "execution_count": 86,
   "id": "74b56fb7",
   "metadata": {
    "scrolled": true
   },
   "outputs": [
    {
     "name": "stdout",
     "output_type": "stream",
     "text": [
      "Доля стартапов, получивших сумму финансирования менее 100.000: 10%\n"
     ]
    }
   ],
   "source": [
    "print(f'Доля стартапов, получивших сумму финансирования менее 100.000: \\\n",
    "{round((train.query('funding_total_usd < 100000'))['name'].count()/(train['name'].count())*100)}%')"
   ]
  },
  {
   "cell_type": "markdown",
   "id": "f5e77f5e-e12e-4d4c-a95e-9fd17644af48",
   "metadata": {},
   "source": [
    "<div style=\"background: #f5f7c4\">Поскольку есть выбросы как в большую, так и в меньшую сторону, пропуски в сумме финансирования заменим на медиану.</div>"
   ]
  },
  {
   "cell_type": "code",
   "execution_count": 87,
   "id": "16ab1e2b-7d37-4abb-b278-32dd8b0ff3b2",
   "metadata": {},
   "outputs": [],
   "source": [
    "# пайплайн для заполнения пропусков на медиану\n",
    "\n",
    "simple_imputer_median = Pipeline(\n",
    "    [\n",
    "        (\n",
    "            'SimpleImputer', \n",
    "            SimpleImputer(missing_values=np.nan, strategy='median')\n",
    "        )\n",
    "    ]\n",
    ")"
   ]
  },
  {
   "cell_type": "code",
   "execution_count": 88,
   "id": "5b6760f4-1fab-472b-ac7c-d534216d4b1d",
   "metadata": {},
   "outputs": [],
   "source": [
    "# заполнение пропусков с помощью пайплайна\n",
    "\n",
    "funding = ['funding_total_usd']\n",
    "\n",
    "train[funding] = simple_imputer_median.fit_transform(train[funding])"
   ]
  },
  {
   "cell_type": "code",
   "execution_count": 89,
   "id": "085119d7-c738-4850-98b1-27979d8e8600",
   "metadata": {},
   "outputs": [
    {
     "data": {
      "text/plain": [
       "name                 0\n",
       "category_list        0\n",
       "funding_total_usd    0\n",
       "status               0\n",
       "country_code         0\n",
       "state_code           0\n",
       "region               0\n",
       "city                 0\n",
       "funding_rounds       0\n",
       "founded_at           0\n",
       "first_funding_at     0\n",
       "last_funding_at      0\n",
       "closed_at            0\n",
       "dtype: int64"
      ]
     },
     "execution_count": 89,
     "metadata": {},
     "output_type": "execute_result"
    }
   ],
   "source": [
    "#проверка отсутствия пропусков\n",
    "\n",
    "train.isna().sum()"
   ]
  },
  {
   "cell_type": "markdown",
   "id": "43d69c9a-2138-4538-96af-9219f3165b10",
   "metadata": {},
   "source": [
    "<div style=\"background: #bbdb92\"><b>Выводы по разделу \"Предобработка данных\"</b>\n",
    "<br><br><div style=\"background: #bbdb92\">Предобработка данных завершена. Оба датасета содержат много пропусков. Предобработку данных осуществляли на тренировочном датасете. Тестовый (имитирующий реальный поток данных) датафрейм пока оставляем как есть, данные будут обработаны в ходе подготовки и обучения моделей.\n",
    "<br><br><div style=\"background: #bbdb92\">Типы данных с датами заменили на datetime.\n",
    "<br><br><div style=\"background: #bbdb92\">Пропуски в данных о местоположении стратапов заполнили значением \"unknown\".\n",
    "<br><br><div style=\"background: #bbdb92\">Пропуски в данных о дате закрытия действующих стртапов заполнили датой выгрузки данных- 2018-01-01.\n",
    "<br><br><div style=\"background: #bbdb92\">Пропуски в категории стартапа заполнили модой.\n",
    "<br><br><div style=\"background: #bbdb92\">Пропуски в категории \"общая сумма финансирования\" заполнили медианой.</div>"
   ]
  },
  {
   "cell_type": "markdown",
   "id": "b4356f92-93e4-4c65-b933-592ebc36ae96",
   "metadata": {},
   "source": [
    "## Исследовательский анализ"
   ]
  },
  {
   "cell_type": "markdown",
   "id": "5dd3cffa-59f2-49f6-b2b6-712108a8f9dd",
   "metadata": {},
   "source": [
    "<div style=\"background: #f5f7c4\">Исследуем количественные признаки train\n",
    "</div>"
   ]
  },
  {
   "cell_type": "code",
   "execution_count": 90,
   "id": "ebd417d3-c71c-4a87-a11b-299af48888ef",
   "metadata": {
    "scrolled": true
   },
   "outputs": [
    {
     "data": {
      "text/html": [
       "<div>\n",
       "<style scoped>\n",
       "    .dataframe tbody tr th:only-of-type {\n",
       "        vertical-align: middle;\n",
       "    }\n",
       "\n",
       "    .dataframe tbody tr th {\n",
       "        vertical-align: top;\n",
       "    }\n",
       "\n",
       "    .dataframe thead th {\n",
       "        text-align: right;\n",
       "    }\n",
       "</style>\n",
       "<table border=\"1\" class=\"dataframe\">\n",
       "  <thead>\n",
       "    <tr style=\"text-align: right;\">\n",
       "      <th></th>\n",
       "      <th>funding_total_usd</th>\n",
       "      <th>funding_rounds</th>\n",
       "      <th>founded_at</th>\n",
       "      <th>first_funding_at</th>\n",
       "      <th>last_funding_at</th>\n",
       "    </tr>\n",
       "  </thead>\n",
       "  <tbody>\n",
       "    <tr>\n",
       "      <th>count</th>\n",
       "      <td>5.251600e+04</td>\n",
       "      <td>52516.000000</td>\n",
       "      <td>52516.000000</td>\n",
       "      <td>52516.000000</td>\n",
       "      <td>52516.000000</td>\n",
       "    </tr>\n",
       "    <tr>\n",
       "      <th>mean</th>\n",
       "      <td>1.513232e+07</td>\n",
       "      <td>1.740670</td>\n",
       "      <td>2008.560096</td>\n",
       "      <td>2011.075691</td>\n",
       "      <td>2012.012491</td>\n",
       "    </tr>\n",
       "    <tr>\n",
       "      <th>std</th>\n",
       "      <td>1.683466e+08</td>\n",
       "      <td>1.374522</td>\n",
       "      <td>5.756683</td>\n",
       "      <td>3.613547</td>\n",
       "      <td>3.336599</td>\n",
       "    </tr>\n",
       "    <tr>\n",
       "      <th>min</th>\n",
       "      <td>1.000000e+00</td>\n",
       "      <td>1.000000</td>\n",
       "      <td>1970.000000</td>\n",
       "      <td>1977.000000</td>\n",
       "      <td>1977.000000</td>\n",
       "    </tr>\n",
       "    <tr>\n",
       "      <th>25%</th>\n",
       "      <td>5.297212e+05</td>\n",
       "      <td>1.000000</td>\n",
       "      <td>2006.000000</td>\n",
       "      <td>2009.000000</td>\n",
       "      <td>2011.000000</td>\n",
       "    </tr>\n",
       "    <tr>\n",
       "      <th>50%</th>\n",
       "      <td>2.000000e+06</td>\n",
       "      <td>1.000000</td>\n",
       "      <td>2010.000000</td>\n",
       "      <td>2012.000000</td>\n",
       "      <td>2013.000000</td>\n",
       "    </tr>\n",
       "    <tr>\n",
       "      <th>75%</th>\n",
       "      <td>6.788929e+06</td>\n",
       "      <td>2.000000</td>\n",
       "      <td>2013.000000</td>\n",
       "      <td>2014.000000</td>\n",
       "      <td>2014.000000</td>\n",
       "    </tr>\n",
       "    <tr>\n",
       "      <th>max</th>\n",
       "      <td>3.007950e+10</td>\n",
       "      <td>19.000000</td>\n",
       "      <td>2016.000000</td>\n",
       "      <td>2015.000000</td>\n",
       "      <td>2015.000000</td>\n",
       "    </tr>\n",
       "  </tbody>\n",
       "</table>\n",
       "</div>"
      ],
      "text/plain": [
       "       funding_total_usd  funding_rounds    founded_at  first_funding_at  \\\n",
       "count       5.251600e+04    52516.000000  52516.000000      52516.000000   \n",
       "mean        1.513232e+07        1.740670   2008.560096       2011.075691   \n",
       "std         1.683466e+08        1.374522      5.756683          3.613547   \n",
       "min         1.000000e+00        1.000000   1970.000000       1977.000000   \n",
       "25%         5.297212e+05        1.000000   2006.000000       2009.000000   \n",
       "50%         2.000000e+06        1.000000   2010.000000       2012.000000   \n",
       "75%         6.788929e+06        2.000000   2013.000000       2014.000000   \n",
       "max         3.007950e+10       19.000000   2016.000000       2015.000000   \n",
       "\n",
       "       last_funding_at  \n",
       "count     52516.000000  \n",
       "mean       2012.012491  \n",
       "std           3.336599  \n",
       "min        1977.000000  \n",
       "25%        2011.000000  \n",
       "50%        2013.000000  \n",
       "75%        2014.000000  \n",
       "max        2015.000000  "
      ]
     },
     "execution_count": 90,
     "metadata": {},
     "output_type": "execute_result"
    }
   ],
   "source": [
    "train.describe()"
   ]
  },
  {
   "cell_type": "code",
   "execution_count": 91,
   "id": "61613e41-2ce5-4fc9-81e3-a8af9207bfb2",
   "metadata": {},
   "outputs": [],
   "source": [
    "#заменим тип данных у funding_total_usd\n",
    "\n",
    "train['funding_total_usd'] = train['funding_total_usd'].astype(int)"
   ]
  },
  {
   "cell_type": "markdown",
   "id": "ed33bcbb-71cd-40a1-a5ca-7db5c96af636",
   "metadata": {},
   "source": [
    "<div style=\"background: #f5f7c4\">Максимальная общая сумма финансирования составляет 30 млрд USD, минимальная - 1 USD. Большой разброс значений\n",
    "<br><br>Количество раундов в среднем 1,7, минимально 1, максимально 19.\n",
    "<br><br>Дата основания с 1970 по 2016 гг. Дата первого раунда финансирования с 1977 по 2015 гг. дата последнего раунда с 1977 по 2015 гг. Дата закрытия стартапа с 1983 по 2018 гг.\n",
    "</div>"
   ]
  },
  {
   "cell_type": "code",
   "execution_count": 92,
   "id": "ddce88c5-0dcf-45fe-b501-0fb05fc54473",
   "metadata": {},
   "outputs": [
    {
     "data": {
      "image/png": "[encoded data removed]",
      "text/plain": [
       "<Figure size 640x480 with 1 Axes>"
      ]
     },
     "metadata": {},
     "output_type": "display_data"
    }
   ],
   "source": [
    "# построим гистограмму для количественного дискретного признака \"кол-во раундов финансирования\" train\n",
    "\n",
    "sns.countplot(x = train['funding_rounds'])\n",
    "plt.title('Распределение количества раундов финансирования для стратапов в тренировочной выборке')\n",
    "plt.ylabel('Кол-во стартапов')\n",
    "plt.xlabel('кол-во раундов')\n",
    "plt.show()"
   ]
  },
  {
   "cell_type": "markdown",
   "id": "c41e58ef-b1d9-4845-91d2-d211cfdc2f80",
   "metadata": {},
   "source": [
    "<div style=\"background: #f5f7c4\">Большинство стартапов имеют всего лишь 1 раунд финансирования. Количество раундов варьируется от 1 до 19.\n",
    "</div>"
   ]
  },
  {
   "cell_type": "markdown",
   "id": "1d7c8dc3-6995-432a-babc-2e7a3abaa474",
   "metadata": {},
   "source": [
    "<div style=\"background: #f5f7c4\">Чтобы проанализировать количественный непрерывный признак \"общая сумма финансирования\" целесообразно сгруппировать стартапы, поскольку разброс большой и имеются выбросы.\n",
    "    \n",
    "- Категория А : более 100 млн\n",
    "- Категория В : от 50 млн до 100 млн\n",
    "- Категория С : от 1 до 50 млн\n",
    "- Категория D : от 500 тыс до 1 млн\n",
    "- Категория E : до 500 тыс.\n",
    "</div>"
   ]
  },
  {
   "cell_type": "code",
   "execution_count": 93,
   "id": "3ae5dc5c-e4aa-4e71-98b1-ec3815846766",
   "metadata": {},
   "outputs": [],
   "source": [
    "def funding_total_cat(funding_total_usd):\n",
    "    if funding_total_usd >= 100000000:\n",
    "         return 'A'\n",
    "    if 50000000 <= funding_total_usd < 100000000:\n",
    "         return 'B'\n",
    "    if 1000000 <= funding_total_usd < 50000000:\n",
    "         return 'C'\n",
    "    if 500000 <= funding_total_usd < 1000000:\n",
    "         return 'D'\n",
    "    if funding_total_usd < 500000:\n",
    "         return 'E'\n",
    "        \n",
    "train['funding_total_category'] = train['funding_total_usd'].apply(funding_total_cat)"
   ]
  },
  {
   "cell_type": "code",
   "execution_count": 94,
   "id": "263ff8e2-e490-4fae-b96a-e4acdc7c9118",
   "metadata": {},
   "outputs": [
    {
     "data": {
      "image/png": "[encoded data removed]",
      "text/plain": [
       "<Figure size 640x480 with 1 Axes>"
      ]
     },
     "metadata": {},
     "output_type": "display_data"
    }
   ],
   "source": [
    "# построим гистограмму для нового признака \"funding_total_category\" \n",
    "\n",
    "sns.countplot(x = train['funding_total_category'], order = train['funding_total_category'].value_counts().index)\n",
    "plt.title('Распределение категорий финансирования стратапов в тренировочной выборке')\n",
    "plt.ylabel('кол-во стартапов')\n",
    "plt.xlabel('категории')\n",
    "plt.show()"
   ]
  },
  {
   "cell_type": "markdown",
   "id": "cef13a9d-c3ca-456f-88df-209556d48516",
   "metadata": {},
   "source": [
    "<div style=\"background: #f5f7c4\">Более 30тыс стартапов получили сумму от 1 до 50 млн руб. Далее почти 14тыс получили до 500тыс, \n",
    "почти 5тыс от 500тыс до 1 млн и менее всего представлены стартапы с финансированием свыше 50млн.\n",
    "</div>"
   ]
  },
  {
   "cell_type": "markdown",
   "id": "c8e44459-1c0d-4643-9a92-a7f2b07742fb",
   "metadata": {},
   "source": [
    "<div style=\"background: #f5f7c4\">На основании года открытия и закрытия стартапа добавим новый столбец, который будет отображать кол-во лет существования стартапа.\n",
    "</div>"
   ]
  },
  {
   "cell_type": "code",
   "execution_count": 95,
   "id": "691a94c7-85c4-43c5-95fb-b0d4301662dd",
   "metadata": {
    "scrolled": true
   },
   "outputs": [
    {
     "data": {
      "text/html": [
       "<div>\n",
       "<style scoped>\n",
       "    .dataframe tbody tr th:only-of-type {\n",
       "        vertical-align: middle;\n",
       "    }\n",
       "\n",
       "    .dataframe tbody tr th {\n",
       "        vertical-align: top;\n",
       "    }\n",
       "\n",
       "    .dataframe thead th {\n",
       "        text-align: right;\n",
       "    }\n",
       "</style>\n",
       "<table border=\"1\" class=\"dataframe\">\n",
       "  <thead>\n",
       "    <tr style=\"text-align: right;\">\n",
       "      <th></th>\n",
       "      <th>name</th>\n",
       "      <th>category_list</th>\n",
       "      <th>funding_total_usd</th>\n",
       "      <th>status</th>\n",
       "      <th>country_code</th>\n",
       "      <th>state_code</th>\n",
       "      <th>region</th>\n",
       "      <th>city</th>\n",
       "      <th>funding_rounds</th>\n",
       "      <th>founded_at</th>\n",
       "      <th>first_funding_at</th>\n",
       "      <th>last_funding_at</th>\n",
       "      <th>closed_at</th>\n",
       "      <th>funding_total_category</th>\n",
       "      <th>lifetime</th>\n",
       "    </tr>\n",
       "  </thead>\n",
       "  <tbody>\n",
       "    <tr>\n",
       "      <th>0</th>\n",
       "      <td>Lunchgate</td>\n",
       "      <td>Online Reservations|Restaurants</td>\n",
       "      <td>828626</td>\n",
       "      <td>operating</td>\n",
       "      <td>CHE</td>\n",
       "      <td>25</td>\n",
       "      <td>Zurich</td>\n",
       "      <td>Zürich</td>\n",
       "      <td>2</td>\n",
       "      <td>2009</td>\n",
       "      <td>2011</td>\n",
       "      <td>2014</td>\n",
       "      <td>2018</td>\n",
       "      <td>D</td>\n",
       "      <td>9</td>\n",
       "    </tr>\n",
       "    <tr>\n",
       "      <th>1</th>\n",
       "      <td>EarLens</td>\n",
       "      <td>Manufacturing|Medical|Medical Devices</td>\n",
       "      <td>42935019</td>\n",
       "      <td>operating</td>\n",
       "      <td>USA</td>\n",
       "      <td>CA</td>\n",
       "      <td>SF Bay Area</td>\n",
       "      <td>Redwood City</td>\n",
       "      <td>4</td>\n",
       "      <td>2005</td>\n",
       "      <td>2010</td>\n",
       "      <td>2014</td>\n",
       "      <td>2018</td>\n",
       "      <td>C</td>\n",
       "      <td>13</td>\n",
       "    </tr>\n",
       "    <tr>\n",
       "      <th>2</th>\n",
       "      <td>Reviva Pharmaceuticals</td>\n",
       "      <td>Biotechnology</td>\n",
       "      <td>35456381</td>\n",
       "      <td>operating</td>\n",
       "      <td>USA</td>\n",
       "      <td>CA</td>\n",
       "      <td>SF Bay Area</td>\n",
       "      <td>San Jose</td>\n",
       "      <td>3</td>\n",
       "      <td>2006</td>\n",
       "      <td>2012</td>\n",
       "      <td>2014</td>\n",
       "      <td>2018</td>\n",
       "      <td>C</td>\n",
       "      <td>12</td>\n",
       "    </tr>\n",
       "    <tr>\n",
       "      <th>3</th>\n",
       "      <td>Sancilio and Company</td>\n",
       "      <td>Health Care</td>\n",
       "      <td>22250000</td>\n",
       "      <td>operating</td>\n",
       "      <td>unknown</td>\n",
       "      <td>unknown</td>\n",
       "      <td>unknown</td>\n",
       "      <td>unknown</td>\n",
       "      <td>3</td>\n",
       "      <td>2004</td>\n",
       "      <td>2011</td>\n",
       "      <td>2014</td>\n",
       "      <td>2018</td>\n",
       "      <td>C</td>\n",
       "      <td>14</td>\n",
       "    </tr>\n",
       "    <tr>\n",
       "      <th>4</th>\n",
       "      <td>WireTough Cylinders</td>\n",
       "      <td>Manufacturing</td>\n",
       "      <td>2000000</td>\n",
       "      <td>operating</td>\n",
       "      <td>USA</td>\n",
       "      <td>VA</td>\n",
       "      <td>VA - Other</td>\n",
       "      <td>Bristol</td>\n",
       "      <td>1</td>\n",
       "      <td>2010</td>\n",
       "      <td>2012</td>\n",
       "      <td>2012</td>\n",
       "      <td>2018</td>\n",
       "      <td>C</td>\n",
       "      <td>8</td>\n",
       "    </tr>\n",
       "    <tr>\n",
       "      <th>...</th>\n",
       "      <td>...</td>\n",
       "      <td>...</td>\n",
       "      <td>...</td>\n",
       "      <td>...</td>\n",
       "      <td>...</td>\n",
       "      <td>...</td>\n",
       "      <td>...</td>\n",
       "      <td>...</td>\n",
       "      <td>...</td>\n",
       "      <td>...</td>\n",
       "      <td>...</td>\n",
       "      <td>...</td>\n",
       "      <td>...</td>\n",
       "      <td>...</td>\n",
       "      <td>...</td>\n",
       "    </tr>\n",
       "    <tr>\n",
       "      <th>52511</th>\n",
       "      <td>Videostream</td>\n",
       "      <td>Entertainment</td>\n",
       "      <td>2000000</td>\n",
       "      <td>operating</td>\n",
       "      <td>CAN</td>\n",
       "      <td>ON</td>\n",
       "      <td>Toronto</td>\n",
       "      <td>Kitchener</td>\n",
       "      <td>1</td>\n",
       "      <td>2012</td>\n",
       "      <td>2014</td>\n",
       "      <td>2014</td>\n",
       "      <td>2018</td>\n",
       "      <td>C</td>\n",
       "      <td>6</td>\n",
       "    </tr>\n",
       "    <tr>\n",
       "      <th>52512</th>\n",
       "      <td>Hello Curry</td>\n",
       "      <td>Hospitality</td>\n",
       "      <td>500000</td>\n",
       "      <td>operating</td>\n",
       "      <td>IND</td>\n",
       "      <td>2</td>\n",
       "      <td>Hyderabad</td>\n",
       "      <td>Hyderabad</td>\n",
       "      <td>1</td>\n",
       "      <td>2013</td>\n",
       "      <td>2014</td>\n",
       "      <td>2014</td>\n",
       "      <td>2018</td>\n",
       "      <td>D</td>\n",
       "      <td>5</td>\n",
       "    </tr>\n",
       "    <tr>\n",
       "      <th>52513</th>\n",
       "      <td>Taskforce</td>\n",
       "      <td>Email|Messaging|Productivity Software</td>\n",
       "      <td>50000</td>\n",
       "      <td>operating</td>\n",
       "      <td>USA</td>\n",
       "      <td>CA</td>\n",
       "      <td>SF Bay Area</td>\n",
       "      <td>San Francisco</td>\n",
       "      <td>3</td>\n",
       "      <td>2010</td>\n",
       "      <td>2009</td>\n",
       "      <td>2011</td>\n",
       "      <td>2018</td>\n",
       "      <td>E</td>\n",
       "      <td>8</td>\n",
       "    </tr>\n",
       "    <tr>\n",
       "      <th>52514</th>\n",
       "      <td>NetScaler</td>\n",
       "      <td>Security</td>\n",
       "      <td>13000000</td>\n",
       "      <td>operating</td>\n",
       "      <td>USA</td>\n",
       "      <td>CA</td>\n",
       "      <td>SF Bay Area</td>\n",
       "      <td>San Jose</td>\n",
       "      <td>6</td>\n",
       "      <td>1997</td>\n",
       "      <td>1998</td>\n",
       "      <td>2004</td>\n",
       "      <td>2018</td>\n",
       "      <td>C</td>\n",
       "      <td>21</td>\n",
       "    </tr>\n",
       "    <tr>\n",
       "      <th>52515</th>\n",
       "      <td>Apparcando</td>\n",
       "      <td>Online Rental|Parking|Price Comparison</td>\n",
       "      <td>270820</td>\n",
       "      <td>operating</td>\n",
       "      <td>ESP</td>\n",
       "      <td>60</td>\n",
       "      <td>Valencia</td>\n",
       "      <td>Valencia</td>\n",
       "      <td>1</td>\n",
       "      <td>2012</td>\n",
       "      <td>2014</td>\n",
       "      <td>2014</td>\n",
       "      <td>2018</td>\n",
       "      <td>E</td>\n",
       "      <td>6</td>\n",
       "    </tr>\n",
       "  </tbody>\n",
       "</table>\n",
       "<p>52516 rows × 15 columns</p>\n",
       "</div>"
      ],
      "text/plain": [
       "                         name                           category_list  \\\n",
       "0                   Lunchgate         Online Reservations|Restaurants   \n",
       "1                     EarLens   Manufacturing|Medical|Medical Devices   \n",
       "2      Reviva Pharmaceuticals                           Biotechnology   \n",
       "3        Sancilio and Company                             Health Care   \n",
       "4         WireTough Cylinders                           Manufacturing   \n",
       "...                       ...                                     ...   \n",
       "52511             Videostream                           Entertainment   \n",
       "52512             Hello Curry                             Hospitality   \n",
       "52513               Taskforce   Email|Messaging|Productivity Software   \n",
       "52514               NetScaler                                Security   \n",
       "52515              Apparcando  Online Rental|Parking|Price Comparison   \n",
       "\n",
       "       funding_total_usd     status country_code state_code       region  \\\n",
       "0                 828626  operating          CHE         25       Zurich   \n",
       "1               42935019  operating          USA         CA  SF Bay Area   \n",
       "2               35456381  operating          USA         CA  SF Bay Area   \n",
       "3               22250000  operating      unknown    unknown      unknown   \n",
       "4                2000000  operating          USA         VA   VA - Other   \n",
       "...                  ...        ...          ...        ...          ...   \n",
       "52511            2000000  operating          CAN         ON      Toronto   \n",
       "52512             500000  operating          IND          2    Hyderabad   \n",
       "52513              50000  operating          USA         CA  SF Bay Area   \n",
       "52514           13000000  operating          USA         CA  SF Bay Area   \n",
       "52515             270820  operating          ESP         60     Valencia   \n",
       "\n",
       "                city  funding_rounds  founded_at  first_funding_at  \\\n",
       "0             Zürich               2        2009              2011   \n",
       "1       Redwood City               4        2005              2010   \n",
       "2           San Jose               3        2006              2012   \n",
       "3            unknown               3        2004              2011   \n",
       "4            Bristol               1        2010              2012   \n",
       "...              ...             ...         ...               ...   \n",
       "52511      Kitchener               1        2012              2014   \n",
       "52512      Hyderabad               1        2013              2014   \n",
       "52513  San Francisco               3        2010              2009   \n",
       "52514       San Jose               6        1997              1998   \n",
       "52515       Valencia               1        2012              2014   \n",
       "\n",
       "       last_funding_at  closed_at funding_total_category  lifetime  \n",
       "0                 2014       2018                      D         9  \n",
       "1                 2014       2018                      C        13  \n",
       "2                 2014       2018                      C        12  \n",
       "3                 2014       2018                      C        14  \n",
       "4                 2012       2018                      C         8  \n",
       "...                ...        ...                    ...       ...  \n",
       "52511             2014       2018                      C         6  \n",
       "52512             2014       2018                      D         5  \n",
       "52513             2011       2018                      E         8  \n",
       "52514             2004       2018                      C        21  \n",
       "52515             2014       2018                      E         6  \n",
       "\n",
       "[52516 rows x 15 columns]"
      ]
     },
     "execution_count": 95,
     "metadata": {},
     "output_type": "execute_result"
    }
   ],
   "source": [
    "train['closed_at'] = train['closed_at'].astype(int)\n",
    "train['lifetime'] = (train['closed_at'] - train['founded_at'])\n",
    "train"
   ]
  },
  {
   "cell_type": "code",
   "execution_count": 96,
   "id": "900ef4b3-46ab-429d-a016-0aeafd659f68",
   "metadata": {
    "scrolled": true
   },
   "outputs": [
    {
     "data": {
      "text/plain": [
       "array([ 0,  1,  2,  3,  4,  5,  6,  7,  8,  9, 10, 11, 12, 13, 14, 15, 16,\n",
       "       17, 18, 19, 20, 21, 22, 23, 24, 25, 26, 27, 28, 29, 30, 31, 32, 33,\n",
       "       34, 35, 36, 37, 38, 39, 40, 41, 42, 43, 44, 45, 46, 47, 48])"
      ]
     },
     "execution_count": 96,
     "metadata": {},
     "output_type": "execute_result"
    }
   ],
   "source": [
    "train['lifetime'].sort_values().unique()"
   ]
  },
  {
   "cell_type": "markdown",
   "id": "ff1f5d16-4fb6-4a2e-889d-3cd0042a5a70",
   "metadata": {},
   "source": [
    "<div style=\"background: #f5f7c4\">Поделим кол-во лет на периоды с шагом 10 лет.\n",
    "</div>"
   ]
  },
  {
   "cell_type": "code",
   "execution_count": 97,
   "id": "f64567eb-4c2f-4388-87e5-50bc09328a2b",
   "metadata": {},
   "outputs": [],
   "source": [
    "def period_cat(period):\n",
    "    if 1 <= period <= 10:\n",
    "         return '1-10'\n",
    "    if 11 <= period <= 20:\n",
    "         return '11-20'\n",
    "    if 21 <= period <= 30:\n",
    "         return '21-30'\n",
    "    if 31 <= period <= 40:\n",
    "         return '31-40'\n",
    "    if 41 <= period <= 50:\n",
    "         return '41-50'\n",
    "        \n",
    "train['lifetime_category'] = train['lifetime'].apply(period_cat)"
   ]
  },
  {
   "cell_type": "code",
   "execution_count": 98,
   "id": "5b229a1e-64e2-40bc-97d4-85c0347e78bf",
   "metadata": {},
   "outputs": [
    {
     "data": {
      "image/png": "[encoded data removed]",
      "text/plain": [
       "<Figure size 640x480 with 1 Axes>"
      ]
     },
     "metadata": {},
     "output_type": "display_data"
    }
   ],
   "source": [
    "# построим гистограмму для нового признака \"lifetime_category\" \n",
    "\n",
    "sns.countplot(x = train['lifetime_category'], order = train['lifetime_category'].value_counts().index)\n",
    "plt.title('Распределение кол-ва лет существования стратапов в тренировочной выборке')\n",
    "plt.ylabel('кол-во стартапов')\n",
    "plt.xlabel('кол-во лет')\n",
    "plt.show()"
   ]
  },
  {
   "cell_type": "markdown",
   "id": "f40ab14c-34b1-4ce6-aeaa-500f31594c02",
   "metadata": {},
   "source": [
    "<div style=\"background: #f5f7c4\">Большая часть, почти 40тыс стартапов просуществовали менее 10 лет.\n",
    "</div>"
   ]
  },
  {
   "cell_type": "markdown",
   "id": "04d98c33-065a-4551-980e-76a7ab905f6c",
   "metadata": {},
   "source": [
    "<div style=\"background: #f5f7c4\">Исследуем категориальные признаки.\n",
    "</div>"
   ]
  },
  {
   "cell_type": "code",
   "execution_count": 99,
   "id": "353a8f4f-b1e0-4a4d-bc10-da3f2916e129",
   "metadata": {},
   "outputs": [
    {
     "data": {
      "image/png": "[encoded data removed]",
      "text/plain": [
       "<Figure size 640x480 with 1 Axes>"
      ]
     },
     "metadata": {},
     "output_type": "display_data"
    }
   ],
   "source": [
    "#построим диаграмму для целевого категориального признака status\n",
    "\n",
    "train.groupby(['status'])['name'].count().plot(kind='pie', autopct='%1.1f%%')\n",
    "plt.title('Распределение категорий финансирования стратапов в тренировочной выборке')\n",
    "plt.axis('off')\n",
    "plt.show()"
   ]
  },
  {
   "cell_type": "markdown",
   "id": "ba6b97cb-3e3a-4d48-af90-1dad4d7a9eae",
   "metadata": {},
   "source": [
    "<div style=\"background: #f5f7c4\">90% стартапов в статусе \"действуйющий\". Налицо дисбаланс классов, оценивать качество моделей будем метрикой F1-Score.\n",
    "</div>"
   ]
  },
  {
   "cell_type": "code",
   "execution_count": 100,
   "id": "50ae2d0e-ad06-43d5-bbbd-90b78be0d223",
   "metadata": {
    "scrolled": true
   },
   "outputs": [
    {
     "data": {
      "text/plain": [
       "22105"
      ]
     },
     "execution_count": 100,
     "metadata": {},
     "output_type": "execute_result"
    }
   ],
   "source": [
    "train['category_list'].nunique()"
   ]
  },
  {
   "cell_type": "code",
   "execution_count": 101,
   "id": "e5b32a4c-818f-45b8-a72b-a634785ecf78",
   "metadata": {},
   "outputs": [
    {
     "data": {
      "text/plain": [
       "22105"
      ]
     },
     "execution_count": 101,
     "metadata": {},
     "output_type": "execute_result"
    }
   ],
   "source": [
    "train = train.sort_values(by='category_list')\n",
    "train['category_list'].nunique()"
   ]
  },
  {
   "cell_type": "markdown",
   "id": "3ec66d75-cb4f-4138-8d13-a51d5e86f1dd",
   "metadata": {},
   "source": [
    "<div style=\"background: #f5f7c4\">Признак \"категория стартапа\" сожержит 22тыс уникальных значений, попробуем снизить это количество, добавив новый столбец с этим признаком, содержащий только первое значение категории в тех случаях, где их указано несколько. Будем считать, что первая категория - основная категория.\n",
    "</div>"
   ]
  },
  {
   "cell_type": "code",
   "execution_count": 102,
   "id": "58781bf0-5a8e-4586-8026-acc9899e56ef",
   "metadata": {},
   "outputs": [
    {
     "data": {
      "text/html": [
       "<div>\n",
       "<style scoped>\n",
       "    .dataframe tbody tr th:only-of-type {\n",
       "        vertical-align: middle;\n",
       "    }\n",
       "\n",
       "    .dataframe tbody tr th {\n",
       "        vertical-align: top;\n",
       "    }\n",
       "\n",
       "    .dataframe thead th {\n",
       "        text-align: right;\n",
       "    }\n",
       "</style>\n",
       "<table border=\"1\" class=\"dataframe\">\n",
       "  <thead>\n",
       "    <tr style=\"text-align: right;\">\n",
       "      <th></th>\n",
       "      <th>name</th>\n",
       "      <th>category_list</th>\n",
       "      <th>funding_total_usd</th>\n",
       "      <th>status</th>\n",
       "      <th>country_code</th>\n",
       "      <th>state_code</th>\n",
       "      <th>region</th>\n",
       "      <th>city</th>\n",
       "      <th>funding_rounds</th>\n",
       "      <th>founded_at</th>\n",
       "      <th>first_funding_at</th>\n",
       "      <th>last_funding_at</th>\n",
       "      <th>closed_at</th>\n",
       "      <th>funding_total_category</th>\n",
       "      <th>lifetime</th>\n",
       "      <th>lifetime_category</th>\n",
       "      <th>main_category</th>\n",
       "    </tr>\n",
       "  </thead>\n",
       "  <tbody>\n",
       "    <tr>\n",
       "      <th>9380</th>\n",
       "      <td>rent2cash.com</td>\n",
       "      <td>Application Platforms|Online Rental|Web Hosting</td>\n",
       "      <td>40000</td>\n",
       "      <td>closed</td>\n",
       "      <td>unknown</td>\n",
       "      <td>unknown</td>\n",
       "      <td>unknown</td>\n",
       "      <td>unknown</td>\n",
       "      <td>1</td>\n",
       "      <td>2013</td>\n",
       "      <td>2014</td>\n",
       "      <td>2014</td>\n",
       "      <td>2015</td>\n",
       "      <td>E</td>\n",
       "      <td>2</td>\n",
       "      <td>1-10</td>\n",
       "      <td>Application Platforms</td>\n",
       "    </tr>\n",
       "    <tr>\n",
       "      <th>32837</th>\n",
       "      <td>ZO Rooms</td>\n",
       "      <td>Hospitality|Hotels</td>\n",
       "      <td>47000000</td>\n",
       "      <td>operating</td>\n",
       "      <td>IND</td>\n",
       "      <td>7</td>\n",
       "      <td>New Delhi</td>\n",
       "      <td>New Delhi</td>\n",
       "      <td>2</td>\n",
       "      <td>2014</td>\n",
       "      <td>2015</td>\n",
       "      <td>2015</td>\n",
       "      <td>2018</td>\n",
       "      <td>C</td>\n",
       "      <td>4</td>\n",
       "      <td>1-10</td>\n",
       "      <td>Hospitality</td>\n",
       "    </tr>\n",
       "    <tr>\n",
       "      <th>30684</th>\n",
       "      <td>FDM Digital Solutions</td>\n",
       "      <td>Design</td>\n",
       "      <td>1303116</td>\n",
       "      <td>operating</td>\n",
       "      <td>GBR</td>\n",
       "      <td>H2</td>\n",
       "      <td>Burnley</td>\n",
       "      <td>Burnley</td>\n",
       "      <td>1</td>\n",
       "      <td>2013</td>\n",
       "      <td>2014</td>\n",
       "      <td>2014</td>\n",
       "      <td>2018</td>\n",
       "      <td>C</td>\n",
       "      <td>5</td>\n",
       "      <td>1-10</td>\n",
       "      <td>Design</td>\n",
       "    </tr>\n",
       "    <tr>\n",
       "      <th>7491</th>\n",
       "      <td>Boost Academy</td>\n",
       "      <td>Internet|Online Education|Tutoring</td>\n",
       "      <td>1575000</td>\n",
       "      <td>operating</td>\n",
       "      <td>unknown</td>\n",
       "      <td>unknown</td>\n",
       "      <td>unknown</td>\n",
       "      <td>unknown</td>\n",
       "      <td>3</td>\n",
       "      <td>2012</td>\n",
       "      <td>2012</td>\n",
       "      <td>2015</td>\n",
       "      <td>2018</td>\n",
       "      <td>C</td>\n",
       "      <td>6</td>\n",
       "      <td>1-10</td>\n",
       "      <td>Internet</td>\n",
       "    </tr>\n",
       "    <tr>\n",
       "      <th>25273</th>\n",
       "      <td>BuyFresco</td>\n",
       "      <td>Organic Food</td>\n",
       "      <td>174083</td>\n",
       "      <td>operating</td>\n",
       "      <td>ESP</td>\n",
       "      <td>29</td>\n",
       "      <td>Madrid</td>\n",
       "      <td>Madrid</td>\n",
       "      <td>1</td>\n",
       "      <td>2011</td>\n",
       "      <td>2015</td>\n",
       "      <td>2015</td>\n",
       "      <td>2018</td>\n",
       "      <td>E</td>\n",
       "      <td>7</td>\n",
       "      <td>1-10</td>\n",
       "      <td>Organic Food</td>\n",
       "    </tr>\n",
       "    <tr>\n",
       "      <th>6401</th>\n",
       "      <td>Velostrata</td>\n",
       "      <td>Computers|Data Centers|Virtualization</td>\n",
       "      <td>14000000</td>\n",
       "      <td>operating</td>\n",
       "      <td>USA</td>\n",
       "      <td>CA</td>\n",
       "      <td>SF Bay Area</td>\n",
       "      <td>San Jose</td>\n",
       "      <td>3</td>\n",
       "      <td>2014</td>\n",
       "      <td>2014</td>\n",
       "      <td>2015</td>\n",
       "      <td>2018</td>\n",
       "      <td>C</td>\n",
       "      <td>4</td>\n",
       "      <td>1-10</td>\n",
       "      <td>Computers</td>\n",
       "    </tr>\n",
       "    <tr>\n",
       "      <th>40083</th>\n",
       "      <td>Proviation</td>\n",
       "      <td>Public Transportation</td>\n",
       "      <td>200000</td>\n",
       "      <td>operating</td>\n",
       "      <td>GBR</td>\n",
       "      <td>A5</td>\n",
       "      <td>GBR - Other</td>\n",
       "      <td>Dunstable</td>\n",
       "      <td>1</td>\n",
       "      <td>2008</td>\n",
       "      <td>2013</td>\n",
       "      <td>2013</td>\n",
       "      <td>2018</td>\n",
       "      <td>E</td>\n",
       "      <td>10</td>\n",
       "      <td>1-10</td>\n",
       "      <td>Public Transportation</td>\n",
       "    </tr>\n",
       "    <tr>\n",
       "      <th>13289</th>\n",
       "      <td>doggyloot</td>\n",
       "      <td>Coupons|Discounts|Pets|Social Commerce</td>\n",
       "      <td>2500000</td>\n",
       "      <td>operating</td>\n",
       "      <td>USA</td>\n",
       "      <td>IL</td>\n",
       "      <td>Chicago</td>\n",
       "      <td>Chicago</td>\n",
       "      <td>2</td>\n",
       "      <td>2010</td>\n",
       "      <td>2011</td>\n",
       "      <td>2013</td>\n",
       "      <td>2018</td>\n",
       "      <td>C</td>\n",
       "      <td>8</td>\n",
       "      <td>1-10</td>\n",
       "      <td>Coupons</td>\n",
       "    </tr>\n",
       "    <tr>\n",
       "      <th>31144</th>\n",
       "      <td>Parature</td>\n",
       "      <td>Customer Service|Customer Support Tools|Software</td>\n",
       "      <td>30234350</td>\n",
       "      <td>operating</td>\n",
       "      <td>USA</td>\n",
       "      <td>VA</td>\n",
       "      <td>Washington, D.C.</td>\n",
       "      <td>Herndon</td>\n",
       "      <td>3</td>\n",
       "      <td>2000</td>\n",
       "      <td>2006</td>\n",
       "      <td>2010</td>\n",
       "      <td>2018</td>\n",
       "      <td>C</td>\n",
       "      <td>18</td>\n",
       "      <td>11-20</td>\n",
       "      <td>Customer Service</td>\n",
       "    </tr>\n",
       "    <tr>\n",
       "      <th>6447</th>\n",
       "      <td>Discrete Sport</td>\n",
       "      <td>Sports</td>\n",
       "      <td>15000</td>\n",
       "      <td>operating</td>\n",
       "      <td>USA</td>\n",
       "      <td>UT</td>\n",
       "      <td>Salt Lake City</td>\n",
       "      <td>Salt Lake City</td>\n",
       "      <td>1</td>\n",
       "      <td>2008</td>\n",
       "      <td>2011</td>\n",
       "      <td>2011</td>\n",
       "      <td>2018</td>\n",
       "      <td>E</td>\n",
       "      <td>10</td>\n",
       "      <td>1-10</td>\n",
       "      <td>Sports</td>\n",
       "    </tr>\n",
       "  </tbody>\n",
       "</table>\n",
       "</div>"
      ],
      "text/plain": [
       "                        name  \\\n",
       "9380           rent2cash.com   \n",
       "32837               ZO Rooms   \n",
       "30684  FDM Digital Solutions   \n",
       "7491           Boost Academy   \n",
       "25273              BuyFresco   \n",
       "6401              Velostrata   \n",
       "40083             Proviation   \n",
       "13289              doggyloot   \n",
       "31144               Parature   \n",
       "6447          Discrete Sport   \n",
       "\n",
       "                                          category_list  funding_total_usd  \\\n",
       "9380    Application Platforms|Online Rental|Web Hosting              40000   \n",
       "32837                                Hospitality|Hotels           47000000   \n",
       "30684                                            Design            1303116   \n",
       "7491                 Internet|Online Education|Tutoring            1575000   \n",
       "25273                                      Organic Food             174083   \n",
       "6401              Computers|Data Centers|Virtualization           14000000   \n",
       "40083                             Public Transportation             200000   \n",
       "13289            Coupons|Discounts|Pets|Social Commerce            2500000   \n",
       "31144  Customer Service|Customer Support Tools|Software           30234350   \n",
       "6447                                             Sports              15000   \n",
       "\n",
       "          status country_code state_code            region            city  \\\n",
       "9380      closed      unknown    unknown           unknown         unknown   \n",
       "32837  operating          IND          7         New Delhi       New Delhi   \n",
       "30684  operating          GBR         H2           Burnley         Burnley   \n",
       "7491   operating      unknown    unknown           unknown         unknown   \n",
       "25273  operating          ESP         29            Madrid          Madrid   \n",
       "6401   operating          USA         CA       SF Bay Area        San Jose   \n",
       "40083  operating          GBR         A5       GBR - Other       Dunstable   \n",
       "13289  operating          USA         IL           Chicago         Chicago   \n",
       "31144  operating          USA         VA  Washington, D.C.         Herndon   \n",
       "6447   operating          USA         UT    Salt Lake City  Salt Lake City   \n",
       "\n",
       "       funding_rounds  founded_at  first_funding_at  last_funding_at  \\\n",
       "9380                1        2013              2014             2014   \n",
       "32837               2        2014              2015             2015   \n",
       "30684               1        2013              2014             2014   \n",
       "7491                3        2012              2012             2015   \n",
       "25273               1        2011              2015             2015   \n",
       "6401                3        2014              2014             2015   \n",
       "40083               1        2008              2013             2013   \n",
       "13289               2        2010              2011             2013   \n",
       "31144               3        2000              2006             2010   \n",
       "6447                1        2008              2011             2011   \n",
       "\n",
       "       closed_at funding_total_category  lifetime lifetime_category  \\\n",
       "9380        2015                      E         2              1-10   \n",
       "32837       2018                      C         4              1-10   \n",
       "30684       2018                      C         5              1-10   \n",
       "7491        2018                      C         6              1-10   \n",
       "25273       2018                      E         7              1-10   \n",
       "6401        2018                      C         4              1-10   \n",
       "40083       2018                      E        10              1-10   \n",
       "13289       2018                      C         8              1-10   \n",
       "31144       2018                      C        18             11-20   \n",
       "6447        2018                      E        10              1-10   \n",
       "\n",
       "               main_category  \n",
       "9380   Application Platforms  \n",
       "32837            Hospitality  \n",
       "30684                 Design  \n",
       "7491                Internet  \n",
       "25273           Organic Food  \n",
       "6401               Computers  \n",
       "40083  Public Transportation  \n",
       "13289                Coupons  \n",
       "31144       Customer Service  \n",
       "6447                  Sports  "
      ]
     },
     "execution_count": 102,
     "metadata": {},
     "output_type": "execute_result"
    }
   ],
   "source": [
    "#создадим новый столбик, взяв первое значение и проверим результат, выведя несколько случайных строк\n",
    "\n",
    "train['main_category'] = train['category_list'].str.split(\"|\").str[0]\n",
    "train.sample(10)"
   ]
  },
  {
   "cell_type": "code",
   "execution_count": 103,
   "id": "019ada62-03b1-40b6-ab58-683e4f9deade",
   "metadata": {},
   "outputs": [
    {
     "data": {
      "text/plain": [
       "707"
      ]
     },
     "execution_count": 103,
     "metadata": {},
     "output_type": "execute_result"
    }
   ],
   "source": [
    "# снова посмотрим на кол-во уникальных значений\n",
    "\n",
    "train['main_category'].nunique()"
   ]
  },
  {
   "cell_type": "markdown",
   "id": "c2d71223-3807-4b68-b4d5-946db081311d",
   "metadata": {},
   "source": [
    "<div style=\"background: #f5f7c4\">Уникальных значений стало гораздо меньше, что облегчит дальнейшую работу.\n",
    "</div>"
   ]
  },
  {
   "cell_type": "code",
   "execution_count": 104,
   "id": "03beb95b-376e-4b2d-8e57-062be130b4ec",
   "metadata": {},
   "outputs": [
    {
     "data": {
      "text/plain": [
       "main_category\n",
       "Software               5787\n",
       "Biotechnology          3592\n",
       "E-Commerce             2173\n",
       "Advertising            1926\n",
       "Curated Web            1747\n",
       "Mobile                 1396\n",
       "Analytics              1314\n",
       "Apps                   1184\n",
       "Health Care            1134\n",
       "Enterprise Software    1110\n",
       "Clean Technology       1106\n",
       "Games                  1014\n",
       "Name: count, dtype: int64"
      ]
     },
     "execution_count": 104,
     "metadata": {},
     "output_type": "execute_result"
    }
   ],
   "source": [
    "#посмотрим на кол-во стратапов по категориям, которых в каждой категории не менее 1000\n",
    "\n",
    "count_category = train['main_category'].value_counts().loc[lambda x : x > 1000]\n",
    "count_category"
   ]
  },
  {
   "cell_type": "code",
   "execution_count": 105,
   "id": "36b40024-12da-4e4c-a991-e6cb1e17a743",
   "metadata": {},
   "outputs": [
    {
     "data": {
      "image/png": "[encoded data removed]",
      "text/plain": [
       "<Figure size 640x480 with 1 Axes>"
      ]
     },
     "metadata": {},
     "output_type": "display_data"
    }
   ],
   "source": [
    "# визуализируем данные\n",
    "\n",
    "count_category.plot(kind='bar')\n",
    "plt.title('Распределение стартапов по категориям в тренировочной выборке')\n",
    "plt.ylabel('кол-во стартапов')\n",
    "plt.xlabel('категории')\n",
    "plt.show()"
   ]
  },
  {
   "cell_type": "markdown",
   "id": "f72f5a88-80ea-4790-8a58-8cc24f0cb5ce",
   "metadata": {},
   "source": [
    "<div style=\"background: #f5f7c4\">Теперь можно сказать, что самые популярные категории стартапов - Разработка ПО и биотехнологии.\n",
    "</div>"
   ]
  },
  {
   "cell_type": "code",
   "execution_count": 106,
   "id": "20fc0f9d-ee8e-4cea-a73b-48db4ece8e0c",
   "metadata": {},
   "outputs": [
    {
     "data": {
      "text/plain": [
       "country_code\n",
       "USA        29702\n",
       "unknown     5502\n",
       "GBR         2925\n",
       "CAN         1540\n",
       "IND         1276\n",
       "CHN         1240\n",
       "Name: count, dtype: int64"
      ]
     },
     "execution_count": 106,
     "metadata": {},
     "output_type": "execute_result"
    }
   ],
   "source": [
    "#посмотрим на кол-во стратапов по странам, которых в каждой стране не менее 1000\n",
    "\n",
    "count_country = train['country_code'].value_counts().loc[lambda x : x > 1000]\n",
    "count_country"
   ]
  },
  {
   "cell_type": "code",
   "execution_count": 107,
   "id": "eae7e4cc-b1b4-4c2b-b032-262b5421e5dc",
   "metadata": {},
   "outputs": [
    {
     "data": {
      "image/png": "[encoded data removed]",
      "text/plain": [
       "<Figure size 640x480 with 1 Axes>"
      ]
     },
     "metadata": {},
     "output_type": "display_data"
    }
   ],
   "source": [
    "# визуализируем данные\n",
    "\n",
    "count_country.plot(kind='bar')\n",
    "plt.title('Распределение стартапов по странам в тренировочной выборке')\n",
    "plt.ylabel('кол-во стартапов')\n",
    "plt.xlabel('страны')\n",
    "plt.show()"
   ]
  },
  {
   "cell_type": "markdown",
   "id": "805f9e96-5c1c-43de-a93e-6b119a0fcc4d",
   "metadata": {},
   "source": [
    "<div style=\"background: #f5f7c4\">Больше всего стартапов в США.\n",
    "</div>"
   ]
  },
  {
   "cell_type": "code",
   "execution_count": 108,
   "id": "4be2c7dc-8a29-4516-852d-39b15566962d",
   "metadata": {},
   "outputs": [
    {
     "data": {
      "text/plain": [
       "region\n",
       "SF Bay Area         6970\n",
       "New York City       2775\n",
       "Boston              1890\n",
       "Los Angeles         1513\n",
       "Seattle              955\n",
       "Washington, D.C.     817\n",
       "Chicago              778\n",
       "San Diego            703\n",
       "Austin               652\n",
       "Denver               638\n",
       "Atlanta              538\n",
       "Name: count, dtype: int64"
      ]
     },
     "execution_count": 108,
     "metadata": {},
     "output_type": "execute_result"
    }
   ],
   "source": [
    "#посмотрим на кол-во стратапов по регионам США, которых в каждом регионе не менее 500\n",
    "\n",
    "count_region = train['region'].loc[train['country_code'] == 'USA'].value_counts().loc[lambda x : x > 500]\n",
    "count_region"
   ]
  },
  {
   "cell_type": "code",
   "execution_count": 109,
   "id": "ac8b3abe-d03e-4122-99c0-1f012a87f631",
   "metadata": {},
   "outputs": [
    {
     "data": {
      "image/png": "[encoded data removed]",
      "text/plain": [
       "<Figure size 640x480 with 1 Axes>"
      ]
     },
     "metadata": {},
     "output_type": "display_data"
    }
   ],
   "source": [
    "# визуализируем данные\n",
    "\n",
    "count_region.plot(kind='bar')\n",
    "plt.title('Распределение стартапов по регионам в США в тренировочной выборке')\n",
    "plt.ylabel('кол-во стартапов')\n",
    "plt.xlabel('регионы')\n",
    "plt.show()"
   ]
  },
  {
   "cell_type": "markdown",
   "id": "a281b700-efbb-4d07-8c6e-75ba48c7624c",
   "metadata": {},
   "source": [
    "<div style=\"background: #f5f7c4\">Больше всего стартапов США представлено в регионах: Сан-Франциско, Нью-Йорк, Бостон, Лос-Анджелес, т.е. в крупных городах.\n",
    "</div>"
   ]
  },
  {
   "cell_type": "markdown",
   "id": "d5251525-0887-4919-a62d-4748e41cd1de",
   "metadata": {},
   "source": [
    "<div style=\"background: #bbdb92\"><b>Выводы по разделу \"Исследовательский анализ\"</b>\n",
    "<br><br><div style=\"background: #bbdb92\">На данном этапе обнаружили дисбаланс классов целевого признака (90% в статусе \"действующий\").</div>\n",
    "<br><div style=\"background: #bbdb92\">Создали новые признаки:\n",
    "    \n",
    "- категория финансирования (5 категорий)\n",
    "- период существования стартапа (кол-во лет)\n",
    "- главная категория стартапа\n",
    "\n",
    "<br>Общая картина тренировочной выборки:\n",
    "\n",
    "- более 30тыс стартапов получили сумму от 1 до 50 млн руб., около 14тыс получили до 500тыс, почти 5тыс от 500тыс до 1 млн, меньше всего стартапов с суммой выше 50млн.\n",
    "- большая часть стартапов просуществовала менее 10 лет\n",
    "- самые популярные категории стартапов - разработка ПО и биотехнологии\n",
    "- территориально большая часть стартапов находится в США в регионах: Сан-Франциско, Нью-Йорк, Бостон, Лос-Анджелес</div>"
   ]
  },
  {
   "cell_type": "markdown",
   "id": "03191cec-2b38-4b9d-b8a4-ace102ee1d19",
   "metadata": {},
   "source": [
    "## Проверка на мультиколлинеарность"
   ]
  },
  {
   "cell_type": "code",
   "execution_count": 62,
   "id": "16ff9e8e-fbe1-407d-b756-4b896bb9ef0a",
   "metadata": {},
   "outputs": [
    {
     "data": {
      "image/png": "[encoded data removed]",
      "text/plain": [
       "<Figure size 800x800 with 2 Axes>"
      ]
     },
     "metadata": {},
     "output_type": "display_data"
    }
   ],
   "source": [
    "# построим матрицу корреляции для проверки данных на мультиколлинеарность, исключив признаки, содержащие множество уникальных значений\n",
    "# и новые признаки категорий\n",
    "\n",
    "plt.figure(figsize=(8, 8))\n",
    "sns.heatmap(train.drop(['name', 'category_list', 'state_code', 'region', 'city', 'funding_total_category', 'lifetime_category'],\n",
    "                       axis=1).phik_matrix(interval_cols=['funding_total_usd', 'lifetime']), annot=True)\n",
    "plt.xticks(rotation=90)\n",
    "plt.title('Матрица корреляции тренировочной выборки')\n",
    "plt.show()"
   ]
  },
  {
   "cell_type": "markdown",
   "id": "1cb85622-719a-4f05-b04f-77b489745e29",
   "metadata": {},
   "source": [
    "<div style=\"background: #bbdb92\">Целевой признак статус высоко коррелирует с признаком длительность существования стартапа (0.86) и практически не коррелирует с суммой финансирования и количеством раундов. Есть небольшая связь с кодом страны, датами первого и последнего раунда финасирования и главной категорией.\n",
    "Высокая корреляция имеется между главной категорией и кодом страны (0.7), датой основания и первым раундом финасирования (0.82), датой основания и последним раундом финансирования (0.75), датой основания и датой закрытия (0.56).\n",
    "Также высокая корреляции нового признака длительность с первым и последним раундом финансировани (0.77 и 0.69) и датой закрытия (0.56).\n",
    "Единички вне основной горизонтальной линии графика указывают на мультиколлинеарность признаков, уберем эти признаки при обучении модели.\n",
    "</div>"
   ]
  },
  {
   "cell_type": "markdown",
   "id": "6f4fadc6-eb90-4d2a-aaa8-8f18ecf83881",
   "metadata": {},
   "source": [
    "## Подготовка признаков и обучение моделей"
   ]
  },
  {
   "cell_type": "code",
   "execution_count": 110,
   "id": "6b7906cd-4c86-4274-90a4-c841df2b807e",
   "metadata": {},
   "outputs": [
    {
     "data": {
      "text/html": [
       "<div>\n",
       "<style scoped>\n",
       "    .dataframe tbody tr th:only-of-type {\n",
       "        vertical-align: middle;\n",
       "    }\n",
       "\n",
       "    .dataframe tbody tr th {\n",
       "        vertical-align: top;\n",
       "    }\n",
       "\n",
       "    .dataframe thead th {\n",
       "        text-align: right;\n",
       "    }\n",
       "</style>\n",
       "<table border=\"1\" class=\"dataframe\">\n",
       "  <thead>\n",
       "    <tr style=\"text-align: right;\">\n",
       "      <th></th>\n",
       "      <th>name</th>\n",
       "      <th>category_list</th>\n",
       "      <th>funding_total_usd</th>\n",
       "      <th>status</th>\n",
       "      <th>country_code</th>\n",
       "      <th>state_code</th>\n",
       "      <th>region</th>\n",
       "      <th>city</th>\n",
       "      <th>funding_rounds</th>\n",
       "      <th>founded_at</th>\n",
       "      <th>first_funding_at</th>\n",
       "      <th>last_funding_at</th>\n",
       "      <th>closed_at</th>\n",
       "      <th>funding_total_category</th>\n",
       "      <th>lifetime</th>\n",
       "      <th>lifetime_category</th>\n",
       "      <th>main_category</th>\n",
       "    </tr>\n",
       "  </thead>\n",
       "  <tbody>\n",
       "    <tr>\n",
       "      <th>40186</th>\n",
       "      <td>8i</td>\n",
       "      <td>3D</td>\n",
       "      <td>14481680</td>\n",
       "      <td>operating</td>\n",
       "      <td>unknown</td>\n",
       "      <td>unknown</td>\n",
       "      <td>unknown</td>\n",
       "      <td>unknown</td>\n",
       "      <td>2</td>\n",
       "      <td>2014</td>\n",
       "      <td>2014</td>\n",
       "      <td>2015</td>\n",
       "      <td>2018</td>\n",
       "      <td>C</td>\n",
       "      <td>4</td>\n",
       "      <td>1-10</td>\n",
       "      <td>3D</td>\n",
       "    </tr>\n",
       "    <tr>\n",
       "      <th>32252</th>\n",
       "      <td>Visual Realm</td>\n",
       "      <td>3D</td>\n",
       "      <td>2000000</td>\n",
       "      <td>operating</td>\n",
       "      <td>USA</td>\n",
       "      <td>FL</td>\n",
       "      <td>Tampa</td>\n",
       "      <td>Tampa</td>\n",
       "      <td>1</td>\n",
       "      <td>2002</td>\n",
       "      <td>2011</td>\n",
       "      <td>2011</td>\n",
       "      <td>2018</td>\n",
       "      <td>C</td>\n",
       "      <td>16</td>\n",
       "      <td>11-20</td>\n",
       "      <td>3D</td>\n",
       "    </tr>\n",
       "    <tr>\n",
       "      <th>13307</th>\n",
       "      <td>Printact</td>\n",
       "      <td>3D Printing</td>\n",
       "      <td>41250</td>\n",
       "      <td>operating</td>\n",
       "      <td>HKG</td>\n",
       "      <td>unknown</td>\n",
       "      <td>Hong Kong</td>\n",
       "      <td>Hong Kong</td>\n",
       "      <td>1</td>\n",
       "      <td>2014</td>\n",
       "      <td>2015</td>\n",
       "      <td>2015</td>\n",
       "      <td>2018</td>\n",
       "      <td>E</td>\n",
       "      <td>4</td>\n",
       "      <td>1-10</td>\n",
       "      <td>3D Printing</td>\n",
       "    </tr>\n",
       "    <tr>\n",
       "      <th>33539</th>\n",
       "      <td>Standard Cyborg</td>\n",
       "      <td>3D Printing</td>\n",
       "      <td>120000</td>\n",
       "      <td>operating</td>\n",
       "      <td>USA</td>\n",
       "      <td>CA</td>\n",
       "      <td>SF Bay Area</td>\n",
       "      <td>San Francisco</td>\n",
       "      <td>1</td>\n",
       "      <td>2012</td>\n",
       "      <td>2014</td>\n",
       "      <td>2014</td>\n",
       "      <td>2018</td>\n",
       "      <td>E</td>\n",
       "      <td>6</td>\n",
       "      <td>1-10</td>\n",
       "      <td>3D Printing</td>\n",
       "    </tr>\n",
       "    <tr>\n",
       "      <th>27253</th>\n",
       "      <td>Photon Fluid</td>\n",
       "      <td>3D Printing</td>\n",
       "      <td>2000000</td>\n",
       "      <td>closed</td>\n",
       "      <td>USA</td>\n",
       "      <td>CA</td>\n",
       "      <td>SF Bay Area</td>\n",
       "      <td>San Francisco</td>\n",
       "      <td>2</td>\n",
       "      <td>2012</td>\n",
       "      <td>2014</td>\n",
       "      <td>2014</td>\n",
       "      <td>2016</td>\n",
       "      <td>C</td>\n",
       "      <td>4</td>\n",
       "      <td>1-10</td>\n",
       "      <td>3D Printing</td>\n",
       "    </tr>\n",
       "    <tr>\n",
       "      <th>...</th>\n",
       "      <td>...</td>\n",
       "      <td>...</td>\n",
       "      <td>...</td>\n",
       "      <td>...</td>\n",
       "      <td>...</td>\n",
       "      <td>...</td>\n",
       "      <td>...</td>\n",
       "      <td>...</td>\n",
       "      <td>...</td>\n",
       "      <td>...</td>\n",
       "      <td>...</td>\n",
       "      <td>...</td>\n",
       "      <td>...</td>\n",
       "      <td>...</td>\n",
       "      <td>...</td>\n",
       "      <td>...</td>\n",
       "      <td>...</td>\n",
       "    </tr>\n",
       "    <tr>\n",
       "      <th>23853</th>\n",
       "      <td>Cope it</td>\n",
       "      <td>mHealth</td>\n",
       "      <td>2000000</td>\n",
       "      <td>operating</td>\n",
       "      <td>DNK</td>\n",
       "      <td>17</td>\n",
       "      <td>Copenhagen</td>\n",
       "      <td>Copenhagen</td>\n",
       "      <td>1</td>\n",
       "      <td>2014</td>\n",
       "      <td>2014</td>\n",
       "      <td>2014</td>\n",
       "      <td>2018</td>\n",
       "      <td>C</td>\n",
       "      <td>4</td>\n",
       "      <td>1-10</td>\n",
       "      <td>mHealth</td>\n",
       "    </tr>\n",
       "    <tr>\n",
       "      <th>45584</th>\n",
       "      <td>Your.MD</td>\n",
       "      <td>mHealth</td>\n",
       "      <td>7300000</td>\n",
       "      <td>operating</td>\n",
       "      <td>NOR</td>\n",
       "      <td>12</td>\n",
       "      <td>Oslo</td>\n",
       "      <td>Oslo</td>\n",
       "      <td>3</td>\n",
       "      <td>2013</td>\n",
       "      <td>2013</td>\n",
       "      <td>2015</td>\n",
       "      <td>2018</td>\n",
       "      <td>C</td>\n",
       "      <td>5</td>\n",
       "      <td>1-10</td>\n",
       "      <td>mHealth</td>\n",
       "    </tr>\n",
       "    <tr>\n",
       "      <th>48083</th>\n",
       "      <td>Skin Analytics</td>\n",
       "      <td>mHealth|Mobile</td>\n",
       "      <td>769131</td>\n",
       "      <td>operating</td>\n",
       "      <td>GBR</td>\n",
       "      <td>C3</td>\n",
       "      <td>London</td>\n",
       "      <td>Cambridge</td>\n",
       "      <td>5</td>\n",
       "      <td>2012</td>\n",
       "      <td>2012</td>\n",
       "      <td>2014</td>\n",
       "      <td>2018</td>\n",
       "      <td>D</td>\n",
       "      <td>6</td>\n",
       "      <td>1-10</td>\n",
       "      <td>mHealth</td>\n",
       "    </tr>\n",
       "    <tr>\n",
       "      <th>18684</th>\n",
       "      <td>Umoove</td>\n",
       "      <td>mHealth|Software</td>\n",
       "      <td>2750000</td>\n",
       "      <td>operating</td>\n",
       "      <td>ISR</td>\n",
       "      <td>6</td>\n",
       "      <td>Tel Aviv</td>\n",
       "      <td>Jerusalem</td>\n",
       "      <td>3</td>\n",
       "      <td>2010</td>\n",
       "      <td>2012</td>\n",
       "      <td>2014</td>\n",
       "      <td>2018</td>\n",
       "      <td>C</td>\n",
       "      <td>8</td>\n",
       "      <td>1-10</td>\n",
       "      <td>mHealth</td>\n",
       "    </tr>\n",
       "    <tr>\n",
       "      <th>25798</th>\n",
       "      <td>Talem Health Solutions</td>\n",
       "      <td>mHealth|Software|Therapeutics</td>\n",
       "      <td>79857</td>\n",
       "      <td>operating</td>\n",
       "      <td>CAN</td>\n",
       "      <td>ON</td>\n",
       "      <td>Toronto</td>\n",
       "      <td>Toronto</td>\n",
       "      <td>1</td>\n",
       "      <td>2012</td>\n",
       "      <td>2012</td>\n",
       "      <td>2012</td>\n",
       "      <td>2018</td>\n",
       "      <td>E</td>\n",
       "      <td>6</td>\n",
       "      <td>1-10</td>\n",
       "      <td>mHealth</td>\n",
       "    </tr>\n",
       "  </tbody>\n",
       "</table>\n",
       "<p>52516 rows × 17 columns</p>\n",
       "</div>"
      ],
      "text/plain": [
       "                         name                  category_list  \\\n",
       "40186                      8i                             3D   \n",
       "32252            Visual Realm                             3D   \n",
       "13307                Printact                    3D Printing   \n",
       "33539         Standard Cyborg                    3D Printing   \n",
       "27253            Photon Fluid                    3D Printing   \n",
       "...                       ...                            ...   \n",
       "23853                 Cope it                        mHealth   \n",
       "45584                 Your.MD                        mHealth   \n",
       "48083          Skin Analytics                 mHealth|Mobile   \n",
       "18684                  Umoove               mHealth|Software   \n",
       "25798  Talem Health Solutions  mHealth|Software|Therapeutics   \n",
       "\n",
       "       funding_total_usd     status country_code state_code       region  \\\n",
       "40186           14481680  operating      unknown    unknown      unknown   \n",
       "32252            2000000  operating          USA         FL        Tampa   \n",
       "13307              41250  operating          HKG    unknown    Hong Kong   \n",
       "33539             120000  operating          USA         CA  SF Bay Area   \n",
       "27253            2000000     closed          USA         CA  SF Bay Area   \n",
       "...                  ...        ...          ...        ...          ...   \n",
       "23853            2000000  operating          DNK         17   Copenhagen   \n",
       "45584            7300000  operating          NOR         12         Oslo   \n",
       "48083             769131  operating          GBR         C3       London   \n",
       "18684            2750000  operating          ISR          6     Tel Aviv   \n",
       "25798              79857  operating          CAN         ON      Toronto   \n",
       "\n",
       "                city  funding_rounds  founded_at  first_funding_at  \\\n",
       "40186        unknown               2        2014              2014   \n",
       "32252          Tampa               1        2002              2011   \n",
       "13307      Hong Kong               1        2014              2015   \n",
       "33539  San Francisco               1        2012              2014   \n",
       "27253  San Francisco               2        2012              2014   \n",
       "...              ...             ...         ...               ...   \n",
       "23853     Copenhagen               1        2014              2014   \n",
       "45584           Oslo               3        2013              2013   \n",
       "48083      Cambridge               5        2012              2012   \n",
       "18684      Jerusalem               3        2010              2012   \n",
       "25798        Toronto               1        2012              2012   \n",
       "\n",
       "       last_funding_at  closed_at funding_total_category  lifetime  \\\n",
       "40186             2015       2018                      C         4   \n",
       "32252             2011       2018                      C        16   \n",
       "13307             2015       2018                      E         4   \n",
       "33539             2014       2018                      E         6   \n",
       "27253             2014       2016                      C         4   \n",
       "...                ...        ...                    ...       ...   \n",
       "23853             2014       2018                      C         4   \n",
       "45584             2015       2018                      C         5   \n",
       "48083             2014       2018                      D         6   \n",
       "18684             2014       2018                      C         8   \n",
       "25798             2012       2018                      E         6   \n",
       "\n",
       "      lifetime_category main_category  \n",
       "40186              1-10            3D  \n",
       "32252             11-20            3D  \n",
       "13307              1-10   3D Printing  \n",
       "33539              1-10   3D Printing  \n",
       "27253              1-10   3D Printing  \n",
       "...                 ...           ...  \n",
       "23853              1-10       mHealth  \n",
       "45584              1-10       mHealth  \n",
       "48083              1-10       mHealth  \n",
       "18684              1-10       mHealth  \n",
       "25798              1-10       mHealth  \n",
       "\n",
       "[52516 rows x 17 columns]"
      ]
     },
     "execution_count": 110,
     "metadata": {},
     "output_type": "execute_result"
    }
   ],
   "source": [
    "train"
   ]
  },
  {
   "cell_type": "code",
   "execution_count": 112,
   "id": "5722dd99-cfee-4f6a-8dba-568237d93af5",
   "metadata": {},
   "outputs": [],
   "source": [
    "#разбиваем данные на тренировочную и тестовую выборки, стратифицируем выборку\n",
    "\n",
    "X_train, X_test, y_train, y_test = train_test_split(\n",
    "    train.drop(['name', 'main_category', 'status', 'state_code', 'region', 'city', 'funding_total_category',\n",
    "                'lifetime_category', 'closed_at', 'founded_at', 'last_funding_at'], axis=1\n",
    "    ),\n",
    "    train['status'],\n",
    "    test_size = TEST_SIZE, \n",
    "    random_state = RANDOM_STATE,\n",
    "    stratify = train['status']\n",
    ")"
   ]
  },
  {
   "cell_type": "code",
   "execution_count": 113,
   "id": "d4c99ca6-32b6-436e-9a87-7f53e69d247b",
   "metadata": {},
   "outputs": [
    {
     "data": {
      "text/html": [
       "<div>\n",
       "<style scoped>\n",
       "    .dataframe tbody tr th:only-of-type {\n",
       "        vertical-align: middle;\n",
       "    }\n",
       "\n",
       "    .dataframe tbody tr th {\n",
       "        vertical-align: top;\n",
       "    }\n",
       "\n",
       "    .dataframe thead th {\n",
       "        text-align: right;\n",
       "    }\n",
       "</style>\n",
       "<table border=\"1\" class=\"dataframe\">\n",
       "  <thead>\n",
       "    <tr style=\"text-align: right;\">\n",
       "      <th></th>\n",
       "      <th>category_list</th>\n",
       "      <th>funding_total_usd</th>\n",
       "      <th>country_code</th>\n",
       "      <th>funding_rounds</th>\n",
       "      <th>first_funding_at</th>\n",
       "      <th>lifetime</th>\n",
       "    </tr>\n",
       "  </thead>\n",
       "  <tbody>\n",
       "    <tr>\n",
       "      <th>50617</th>\n",
       "      <td>Health Care</td>\n",
       "      <td>14155000</td>\n",
       "      <td>USA</td>\n",
       "      <td>3</td>\n",
       "      <td>2011</td>\n",
       "      <td>8</td>\n",
       "    </tr>\n",
       "    <tr>\n",
       "      <th>12622</th>\n",
       "      <td>Enterprise Software</td>\n",
       "      <td>25482000</td>\n",
       "      <td>unknown</td>\n",
       "      <td>3</td>\n",
       "      <td>2008</td>\n",
       "      <td>11</td>\n",
       "    </tr>\n",
       "    <tr>\n",
       "      <th>45531</th>\n",
       "      <td>Banking|Credit Cards|Developer APIs|Finance|Fi...</td>\n",
       "      <td>778660</td>\n",
       "      <td>DEU</td>\n",
       "      <td>3</td>\n",
       "      <td>2012</td>\n",
       "      <td>6</td>\n",
       "    </tr>\n",
       "    <tr>\n",
       "      <th>2252</th>\n",
       "      <td>Software</td>\n",
       "      <td>2000000</td>\n",
       "      <td>DEU</td>\n",
       "      <td>2</td>\n",
       "      <td>2010</td>\n",
       "      <td>9</td>\n",
       "    </tr>\n",
       "    <tr>\n",
       "      <th>15876</th>\n",
       "      <td>E-Commerce</td>\n",
       "      <td>2000000</td>\n",
       "      <td>USA</td>\n",
       "      <td>1</td>\n",
       "      <td>2013</td>\n",
       "      <td>6</td>\n",
       "    </tr>\n",
       "    <tr>\n",
       "      <th>...</th>\n",
       "      <td>...</td>\n",
       "      <td>...</td>\n",
       "      <td>...</td>\n",
       "      <td>...</td>\n",
       "      <td>...</td>\n",
       "      <td>...</td>\n",
       "    </tr>\n",
       "    <tr>\n",
       "      <th>20959</th>\n",
       "      <td>E-Commerce|Software</td>\n",
       "      <td>100000</td>\n",
       "      <td>GHA</td>\n",
       "      <td>1</td>\n",
       "      <td>2010</td>\n",
       "      <td>8</td>\n",
       "    </tr>\n",
       "    <tr>\n",
       "      <th>52247</th>\n",
       "      <td>Education</td>\n",
       "      <td>2500000</td>\n",
       "      <td>USA</td>\n",
       "      <td>1</td>\n",
       "      <td>2015</td>\n",
       "      <td>5</td>\n",
       "    </tr>\n",
       "    <tr>\n",
       "      <th>14961</th>\n",
       "      <td>Enterprise Software</td>\n",
       "      <td>1400000</td>\n",
       "      <td>USA</td>\n",
       "      <td>2</td>\n",
       "      <td>2013</td>\n",
       "      <td>6</td>\n",
       "    </tr>\n",
       "    <tr>\n",
       "      <th>33521</th>\n",
       "      <td>Communities|DIY|Home &amp; Garden|Internet|Lifesty...</td>\n",
       "      <td>564400</td>\n",
       "      <td>ITA</td>\n",
       "      <td>2</td>\n",
       "      <td>2011</td>\n",
       "      <td>7</td>\n",
       "    </tr>\n",
       "    <tr>\n",
       "      <th>35840</th>\n",
       "      <td>Business Services|E-Commerce|Games|Stock Excha...</td>\n",
       "      <td>400000</td>\n",
       "      <td>unknown</td>\n",
       "      <td>1</td>\n",
       "      <td>2009</td>\n",
       "      <td>11</td>\n",
       "    </tr>\n",
       "  </tbody>\n",
       "</table>\n",
       "<p>39387 rows × 6 columns</p>\n",
       "</div>"
      ],
      "text/plain": [
       "                                           category_list  funding_total_usd  \\\n",
       "50617                                        Health Care           14155000   \n",
       "12622                                Enterprise Software           25482000   \n",
       "45531  Banking|Credit Cards|Developer APIs|Finance|Fi...             778660   \n",
       "2252                                            Software            2000000   \n",
       "15876                                         E-Commerce            2000000   \n",
       "...                                                  ...                ...   \n",
       "20959                                E-Commerce|Software             100000   \n",
       "52247                                          Education            2500000   \n",
       "14961                                Enterprise Software            1400000   \n",
       "33521  Communities|DIY|Home & Garden|Internet|Lifesty...             564400   \n",
       "35840  Business Services|E-Commerce|Games|Stock Excha...             400000   \n",
       "\n",
       "      country_code  funding_rounds  first_funding_at  lifetime  \n",
       "50617          USA               3              2011         8  \n",
       "12622      unknown               3              2008        11  \n",
       "45531          DEU               3              2012         6  \n",
       "2252           DEU               2              2010         9  \n",
       "15876          USA               1              2013         6  \n",
       "...            ...             ...               ...       ...  \n",
       "20959          GHA               1              2010         8  \n",
       "52247          USA               1              2015         5  \n",
       "14961          USA               2              2013         6  \n",
       "33521          ITA               2              2011         7  \n",
       "35840      unknown               1              2009        11  \n",
       "\n",
       "[39387 rows x 6 columns]"
      ]
     },
     "execution_count": 113,
     "metadata": {},
     "output_type": "execute_result"
    }
   ],
   "source": [
    "X_train"
   ]
  },
  {
   "cell_type": "code",
   "execution_count": 114,
   "id": "a04f6342-2be4-46cf-9bbf-b1b53cde36bd",
   "metadata": {},
   "outputs": [
    {
     "name": "stdout",
     "output_type": "stream",
     "text": [
      "['closed' 'operating']\n"
     ]
    }
   ],
   "source": [
    "#закодируем целевой признак\n",
    "\n",
    "label_encoder = LabelEncoder()\n",
    "y_train = label_encoder.fit_transform(y_train)\n",
    "y_test = label_encoder.transform(y_test)\n",
    "pred_classes = [0, 1]\n",
    "print(label_encoder.inverse_transform(pred_classes))"
   ]
  },
  {
   "cell_type": "code",
   "execution_count": 115,
   "id": "64a69e33-5d62-45e1-9d8a-5d9bfd6bd5d8",
   "metadata": {},
   "outputs": [],
   "source": [
    "#создаём списки с названиями признаков\n",
    "\n",
    "ohe_columns = ['country_code', 'category_list']\n",
    "\n",
    "num_columns = ['funding_total_usd', 'lifetime', 'funding_rounds', 'first_funding_at']\n"
   ]
  },
  {
   "cell_type": "code",
   "execution_count": 116,
   "id": "6070f141-cb77-4069-86bc-263e794fabe4",
   "metadata": {},
   "outputs": [
    {
     "name": "stdout",
     "output_type": "stream",
     "text": [
      "Pipeline(steps=[('ohe',\n",
      "                 OneHotEncoder(drop='first', handle_unknown='ignore',\n",
      "                               sparse_output=False))])\n"
     ]
    }
   ],
   "source": [
    "#cоздаём пайплайн для подготовки признаков из списка ohe_columns:\n",
    "\n",
    "ohe_pipe = Pipeline(\n",
    "    [\n",
    "        ('ohe', OneHotEncoder(drop='first', handle_unknown='ignore', sparse_output=False))\n",
    "    ]\n",
    " )\n",
    "print(ohe_pipe)"
   ]
  },
  {
   "cell_type": "code",
   "execution_count": 117,
   "id": "a595e7a1-322e-4db8-966e-56c636cbed73",
   "metadata": {},
   "outputs": [
    {
     "name": "stdout",
     "output_type": "stream",
     "text": [
      "ColumnTransformer(remainder='passthrough',\n",
      "                  transformers=[('ohe',\n",
      "                                 Pipeline(steps=[('ohe',\n",
      "                                                  OneHotEncoder(drop='first',\n",
      "                                                                handle_unknown='ignore',\n",
      "                                                                sparse_output=False))]),\n",
      "                                 ['country_code', 'category_list']),\n",
      "                                ('num', MinMaxScaler(),\n",
      "                                 ['funding_total_usd', 'lifetime',\n",
      "                                  'funding_rounds', 'first_funding_at'])])\n"
     ]
    }
   ],
   "source": [
    "#создаём общий пайплайн для подготовки данных\n",
    "\n",
    "data_preprocessor = ColumnTransformer(\n",
    "    [\n",
    "        ('ohe', ohe_pipe, ohe_columns),\n",
    "        ('num', MinMaxScaler(), num_columns)\n",
    "    ], \n",
    "    remainder = 'passthrough'\n",
    ")\n",
    "print(data_preprocessor)"
   ]
  },
  {
   "cell_type": "code",
   "execution_count": 118,
   "id": "4aa9a9a2-2261-4110-baa7-1eca0f7d7a2f",
   "metadata": {},
   "outputs": [
    {
     "name": "stdout",
     "output_type": "stream",
     "text": [
      "Pipeline(steps=[('preprocessor',\n",
      "                 ColumnTransformer(remainder='passthrough',\n",
      "                                   transformers=[('ohe',\n",
      "                                                  Pipeline(steps=[('ohe',\n",
      "                                                                   OneHotEncoder(drop='first',\n",
      "                                                                                 handle_unknown='ignore',\n",
      "                                                                                 sparse_output=False))]),\n",
      "                                                  ['country_code',\n",
      "                                                   'category_list']),\n",
      "                                                 ('num', MinMaxScaler(),\n",
      "                                                  ['funding_total_usd',\n",
      "                                                   'lifetime', 'funding_rounds',\n",
      "                                                   'first_funding_at'])])),\n",
      "                ('models', DecisionTreeClassifier(random_state=42))])\n"
     ]
    }
   ],
   "source": [
    "# создаём итоговый пайплайн: подготовка данных и модель\n",
    "\n",
    "pipe_final = Pipeline(\n",
    "    [\n",
    "        ('preprocessor', data_preprocessor),\n",
    "        ('models', DecisionTreeClassifier(random_state=RANDOM_STATE))\n",
    "    ])\n",
    "print(pipe_final)"
   ]
  },
  {
   "cell_type": "code",
   "execution_count": 119,
   "id": "30651cb5-e914-4494-9c7b-6da541804637",
   "metadata": {},
   "outputs": [],
   "source": [
    "param_grid = [\n",
    "    # словарь для модели DecisionTreeClassifier()\n",
    "    {\n",
    "        'models': [DecisionTreeClassifier(random_state=RANDOM_STATE)],\n",
    "        'models__max_depth' : range(2,5),\n",
    "        'models__max_features': range(2,5),\n",
    "        'preprocessor__num': [StandardScaler(), MinMaxScaler(), 'passthrough']  \n",
    "    },\n",
    "   \n",
    "    # словарь для модели KNeighborsClassifier() \n",
    "    {\n",
    "        'models': [KNeighborsClassifier()],\n",
    "        'models__n_neighbors' : range(2,5),\n",
    "        'preprocessor__num': [StandardScaler(), MinMaxScaler(), 'passthrough']   \n",
    "    },\n",
    "    # словарь для модели LogisticRegression()\n",
    "    {\n",
    "        'models': [LogisticRegression(random_state=RANDOM_STATE, solver='liblinear', penalty='l1')],\n",
    "        'models__C': range(1,5),\n",
    "        'preprocessor__num': [StandardScaler(), MinMaxScaler(), 'passthrough']  \n",
    "    }\n",
    "]"
   ]
  },
  {
   "cell_type": "code",
   "execution_count": 120,
   "id": "a4d8829a-cf91-475b-bf67-9f1f16297bb7",
   "metadata": {},
   "outputs": [],
   "source": [
    "random_search = RandomizedSearchCV(\n",
    "    pipe_final, \n",
    "    param_grid, \n",
    "    cv=5,\n",
    "    scoring='f1',\n",
    "    random_state=RANDOM_STATE\n",
    ")"
   ]
  },
  {
   "cell_type": "code",
   "execution_count": 121,
   "id": "8331eef8-0203-40bb-ad9a-0e09368e223e",
   "metadata": {},
   "outputs": [
    {
     "name": "stderr",
     "output_type": "stream",
     "text": [
      "  File \"D:\\programs\\Anaconda\\Lib\\site-packages\\joblib\\externals\\loky\\backend\\context.py\", line 282, in _count_physical_cores\n",
      "    raise ValueError(f\"found {cpu_count_physical} physical cores < 1\")\n"
     ]
    },
    {
     "name": "stdout",
     "output_type": "stream",
     "text": [
      "Лучшая модель и её параметры:\n",
      "\n",
      " Pipeline(steps=[('preprocessor',\n",
      "                 ColumnTransformer(remainder='passthrough',\n",
      "                                   transformers=[('ohe',\n",
      "                                                  Pipeline(steps=[('ohe',\n",
      "                                                                   OneHotEncoder(drop='first',\n",
      "                                                                                 handle_unknown='ignore',\n",
      "                                                                                 sparse_output=False))]),\n",
      "                                                  ['country_code',\n",
      "                                                   'category_list']),\n",
      "                                                 ('num', MinMaxScaler(),\n",
      "                                                  ['funding_total_usd',\n",
      "                                                   'lifetime', 'funding_rounds',\n",
      "                                                   'first_funding_at'])])),\n",
      "                ('models',\n",
      "                 LogisticRegression(C=1, penalty='l1', random_state=42,\n",
      "                                    solver='liblinear'))])\n",
      "Метрика F1-score лучшей модели на кросс-валидационной выборке: 0.9840421484302956\n"
     ]
    }
   ],
   "source": [
    "random_search.fit(X_train, y_train)\n",
    "print('Лучшая модель и её параметры:\\n\\n', random_search.best_estimator_)\n",
    "print ('Метрика F1-score лучшей модели на кросс-валидационной выборке:', random_search.best_score_)"
   ]
  },
  {
   "cell_type": "code",
   "execution_count": 122,
   "id": "273db8f2-c0fe-4b67-bcab-752c5384f624",
   "metadata": {},
   "outputs": [
    {
     "name": "stdout",
     "output_type": "stream",
     "text": [
      "Метрика F1-score на тестовой выборке: 0.9844546698171869\n"
     ]
    }
   ],
   "source": [
    "y_test_pred = random_search.predict(X_test)\n",
    "print(f'Метрика F1-score на тестовой выборке: {f1_score(y_test, y_test_pred)}')"
   ]
  },
  {
   "cell_type": "markdown",
   "id": "ca591c5e-d750-4d0e-be0e-3c76a0160074",
   "metadata": {},
   "source": [
    "<div style=\"background: #f5f7c4\">Лучшая модель - Логистическая регрессия.\n",
    "<br>Метрика F1 на кросс-валидационной выборке = 0.98.\n",
    "<br>Метрика F1 на тестовой выборке = 0.98.                                                      \n",
    "</div>"
   ]
  },
  {
   "cell_type": "code",
   "execution_count": 123,
   "id": "3106b86e-3702-4ef2-9a7b-a3a4693491a6",
   "metadata": {},
   "outputs": [
    {
     "name": "stdout",
     "output_type": "stream",
     "text": [
      "Метрика F1-score дамми-модели = 0.95\n"
     ]
    }
   ],
   "source": [
    "# создадим и обучим DummyClassifier на тренировочных данных\n",
    "# выполним предсказание на тестовой выборке\n",
    "dummy_model = DummyClassifier(random_state=RANDOM_STATE)\n",
    "dummy_model.fit(X_train, y_train)\n",
    "dummy_model_preds = dummy_model.predict(X_test)\n",
    "\n",
    "# посчитаем метрику \n",
    "dummy_roc = f1_score(y_test, dummy_model_preds)\n",
    "print('Метрика F1-score дамми-модели =', round(dummy_roc,2))"
   ]
  },
  {
   "cell_type": "markdown",
   "id": "19d9bc55-b04e-49a3-92b9-6fa630c8748e",
   "metadata": {},
   "source": [
    "<div style=\"background: #f5f7c4\">Метрика F1 дамми-модели ниже, чем метрика на тестовой выборке, значит наша модель адекватна и может быть использована в дальнейшей работе.\n",
    "</div>"
   ]
  },
  {
   "cell_type": "markdown",
   "id": "616fd192-27c5-4932-b91f-1ee62e657cfc",
   "metadata": {},
   "source": [
    "<div style=\"background: #bbdb92\"><b>Выводы по разделу \"Подготовка признаков и обучение моделей\"</b>\n",
    "<br><br>На данном этапе выполнили подготовку признаков и обучение моделей с помощью пайплайнов. \n",
    "<br><br>Целевой признак \"статус\" закодировали с помощью LabelEncoder. \n",
    "<br><br>Количественный признак \"сумма финасирования\" масштабировали с помощью MinMaxScaler. \n",
    "<br><br>Категориальные признаки закодировали с помощью OneHotEncoder. \n",
    "<br><br>Обучили 3 модели: DecisionTreeClassifier, KNeighborsClassifier, LogisticRegression.\n",
    "<br><br>Поскольку пристутствует дисбаланс целевого признака, оценивали модели метрикой F1-score.\n",
    "<br><br>Лучшей моделью оказалась логистическая регрессия с метрикой на кросс-валидационной и тестовой выборке - 0.98.\n",
    "<br><br>Проверили адекватность модели с помощью дамми-модели.</div>"
   ]
  },
  {
   "cell_type": "markdown",
   "id": "efe6b005-94c9-4a35-9771-67270853cffd",
   "metadata": {},
   "source": [
    "## Анализ важности признаков"
   ]
  },
  {
   "cell_type": "markdown",
   "id": "84aa3f4f-5e3a-4eba-a6cd-a840b4541d16",
   "metadata": {},
   "source": [
    "<div style=\"background: #f5f7c4\">Оценим важность признаков для лучшей модели и построим график важности с помощью метода SHAP.                                               \n",
    "</div>"
   ]
  },
  {
   "cell_type": "code",
   "execution_count": 124,
   "id": "0e7a2a42-d197-49dc-b40a-9b6a65315998",
   "metadata": {},
   "outputs": [
    {
     "name": "stderr",
     "output_type": "stream",
     "text": [
      "PermutationExplainer explainer: 6it [00:16,  5.54s/it]                                                                 \n"
     ]
    },
    {
     "data": {
      "image/png": "[encoded data removed]",
      "text/plain": [
       "<Figure size 800x550 with 2 Axes>"
      ]
     },
     "metadata": {},
     "output_type": "display_data"
    }
   ],
   "source": [
    "X = random_search.best_estimator_['preprocessor'].fit_transform(X_train)\n",
    "X = pd.DataFrame(X, columns = random_search.best_estimator_['preprocessor'].get_feature_names_out())\n",
    "explainer = shap.Explainer(random_search.best_estimator_['models'].predict, X)\n",
    "shap_values = explainer(X[:5])\n",
    "shap.plots.beeswarm(shap_values)"
   ]
  },
  {
   "cell_type": "markdown",
   "id": "646e57cc-10cd-4bcf-9984-78d883d7c758",
   "metadata": {},
   "source": [
    "<div style=\"background: #bbdb92\"><b>Выводы по разделу \"Анализ важности признаков\"</b>\n",
    "<br><br>На данном этапе оценили важность признаков методом SHAP. Диаграмма размаха отражает вклад всех признаков в классификацию каждого наблюдения. Самыми значимыми признаками являются: длительность существования, дата первого раунда финснирования.</div>"
   ]
  },
  {
   "cell_type": "markdown",
   "id": "c5db234e-69ad-41b3-8d4d-c5dad5c4f106",
   "metadata": {},
   "source": [
    "## Получение предсказаний"
   ]
  },
  {
   "cell_type": "code",
   "execution_count": 125,
   "id": "adbc9117-03ea-4ae4-8708-704918882737",
   "metadata": {},
   "outputs": [
    {
     "data": {
      "text/plain": [
       "name                    0\n",
       "category_list         591\n",
       "funding_total_usd    2578\n",
       "country_code         1382\n",
       "state_code           1695\n",
       "region               1589\n",
       "city                 1587\n",
       "funding_rounds          0\n",
       "first_funding_at        0\n",
       "last_funding_at         0\n",
       "lifetime                0\n",
       "dtype: int64"
      ]
     },
     "execution_count": 125,
     "metadata": {},
     "output_type": "execute_result"
    }
   ],
   "source": [
    "test.isna().sum()"
   ]
  },
  {
   "cell_type": "code",
   "execution_count": 126,
   "id": "e9975c04-80b8-4283-a599-2b74d82e5b9e",
   "metadata": {},
   "outputs": [],
   "source": [
    "# заполнение пропусков с помощью пайплайна\n",
    "\n",
    "test[cols_train_address] = simple_imputer_unknown.fit_transform(test[cols_train_address])\n",
    "\n",
    "test[category] = simple_imputer_moda.fit_transform(test[category])\n",
    "\n",
    "test[funding] = simple_imputer_median.fit_transform(test[funding])"
   ]
  },
  {
   "cell_type": "code",
   "execution_count": 127,
   "id": "c3f0bb6d-0c64-463c-b1e6-585a6a181e7f",
   "metadata": {},
   "outputs": [
    {
     "data": {
      "text/plain": [
       "name                 0\n",
       "category_list        0\n",
       "funding_total_usd    0\n",
       "country_code         0\n",
       "state_code           0\n",
       "region               0\n",
       "city                 0\n",
       "funding_rounds       0\n",
       "first_funding_at     0\n",
       "last_funding_at      0\n",
       "lifetime             0\n",
       "dtype: int64"
      ]
     },
     "execution_count": 127,
     "metadata": {},
     "output_type": "execute_result"
    }
   ],
   "source": [
    "test.isna().sum()"
   ]
  },
  {
   "cell_type": "code",
   "execution_count": 128,
   "id": "9bfdc78b-434b-4b91-802f-d595be50b736",
   "metadata": {
    "scrolled": true
   },
   "outputs": [
    {
     "data": {
      "text/html": [
       "<div>\n",
       "<style scoped>\n",
       "    .dataframe tbody tr th:only-of-type {\n",
       "        vertical-align: middle;\n",
       "    }\n",
       "\n",
       "    .dataframe tbody tr th {\n",
       "        vertical-align: top;\n",
       "    }\n",
       "\n",
       "    .dataframe thead th {\n",
       "        text-align: right;\n",
       "    }\n",
       "</style>\n",
       "<table border=\"1\" class=\"dataframe\">\n",
       "  <thead>\n",
       "    <tr style=\"text-align: right;\">\n",
       "      <th></th>\n",
       "      <th>name</th>\n",
       "      <th>category_list</th>\n",
       "      <th>funding_total_usd</th>\n",
       "      <th>country_code</th>\n",
       "      <th>state_code</th>\n",
       "      <th>region</th>\n",
       "      <th>city</th>\n",
       "      <th>funding_rounds</th>\n",
       "      <th>first_funding_at</th>\n",
       "      <th>last_funding_at</th>\n",
       "      <th>lifetime</th>\n",
       "      <th>main_category</th>\n",
       "    </tr>\n",
       "  </thead>\n",
       "  <tbody>\n",
       "    <tr>\n",
       "      <th>3211</th>\n",
       "      <td>Viaziz Scam</td>\n",
       "      <td>Auctions|E-Commerce|Internet</td>\n",
       "      <td>2500.0</td>\n",
       "      <td>unknown</td>\n",
       "      <td>unknown</td>\n",
       "      <td>unknown</td>\n",
       "      <td>unknown</td>\n",
       "      <td>1</td>\n",
       "      <td>2011</td>\n",
       "      <td>2011</td>\n",
       "      <td>1</td>\n",
       "      <td>Auctions</td>\n",
       "    </tr>\n",
       "    <tr>\n",
       "      <th>4913</th>\n",
       "      <td>fav.or.it</td>\n",
       "      <td>Blogging Platforms|Curated Web</td>\n",
       "      <td>712000.0</td>\n",
       "      <td>GBR</td>\n",
       "      <td>K7</td>\n",
       "      <td>London</td>\n",
       "      <td>Reading</td>\n",
       "      <td>1</td>\n",
       "      <td>2009</td>\n",
       "      <td>2009</td>\n",
       "      <td>3</td>\n",
       "      <td>Blogging Platforms</td>\n",
       "    </tr>\n",
       "    <tr>\n",
       "      <th>10600</th>\n",
       "      <td>Sadbhav Infrastructure Projects</td>\n",
       "      <td>Real Estate</td>\n",
       "      <td>31000000.0</td>\n",
       "      <td>IND</td>\n",
       "      <td>9</td>\n",
       "      <td>Ahmedabad</td>\n",
       "      <td>Ahmedabad</td>\n",
       "      <td>1</td>\n",
       "      <td>2015</td>\n",
       "      <td>2015</td>\n",
       "      <td>30</td>\n",
       "      <td>Real Estate</td>\n",
       "    </tr>\n",
       "    <tr>\n",
       "      <th>9906</th>\n",
       "      <td>Grenville Strategic Royalty</td>\n",
       "      <td>Software</td>\n",
       "      <td>15000000.0</td>\n",
       "      <td>unknown</td>\n",
       "      <td>unknown</td>\n",
       "      <td>unknown</td>\n",
       "      <td>unknown</td>\n",
       "      <td>1</td>\n",
       "      <td>2014</td>\n",
       "      <td>2014</td>\n",
       "      <td>5</td>\n",
       "      <td>Software</td>\n",
       "    </tr>\n",
       "  </tbody>\n",
       "</table>\n",
       "</div>"
      ],
      "text/plain": [
       "                                  name                   category_list  \\\n",
       "3211                       Viaziz Scam    Auctions|E-Commerce|Internet   \n",
       "4913                         fav.or.it  Blogging Platforms|Curated Web   \n",
       "10600  Sadbhav Infrastructure Projects                     Real Estate   \n",
       "9906       Grenville Strategic Royalty                        Software   \n",
       "\n",
       "       funding_total_usd country_code state_code     region       city  \\\n",
       "3211              2500.0      unknown    unknown    unknown    unknown   \n",
       "4913            712000.0          GBR         K7     London    Reading   \n",
       "10600         31000000.0          IND          9  Ahmedabad  Ahmedabad   \n",
       "9906          15000000.0      unknown    unknown    unknown    unknown   \n",
       "\n",
       "       funding_rounds  first_funding_at  last_funding_at  lifetime  \\\n",
       "3211                1              2011             2011         1   \n",
       "4913                1              2009             2009         3   \n",
       "10600               1              2015             2015        30   \n",
       "9906                1              2014             2014         5   \n",
       "\n",
       "            main_category  \n",
       "3211             Auctions  \n",
       "4913   Blogging Platforms  \n",
       "10600         Real Estate  \n",
       "9906             Software  "
      ]
     },
     "execution_count": 128,
     "metadata": {},
     "output_type": "execute_result"
    }
   ],
   "source": [
    "#создадим новые столбцы с новыми признаками по аналогии с train\n",
    "\n",
    "test['main_category'] = test['category_list'].str.split(\"|\").str[0]\n",
    "#test['funding_total_category'] = test['funding_total_usd'].apply(funding_total_cat)\n",
    "test['lifetime'] = round(test['lifetime']/365).astype(int)\n",
    "\n",
    "test.sample(4)"
   ]
  },
  {
   "cell_type": "code",
   "execution_count": 129,
   "id": "9643c3e0-13cd-4328-a87c-ed85568a141a",
   "metadata": {},
   "outputs": [],
   "source": [
    "# Предсказание на валидационной выборке\n",
    "test['status'] = random_search.best_estimator_.predict(test)"
   ]
  },
  {
   "cell_type": "code",
   "execution_count": 130,
   "id": "6b402abf-d0a6-4094-82d4-1ad825e7f902",
   "metadata": {},
   "outputs": [
    {
     "data": {
      "text/plain": [
       "0        operating\n",
       "1        operating\n",
       "2        operating\n",
       "3        operating\n",
       "4        operating\n",
       "           ...    \n",
       "13120    operating\n",
       "13121    operating\n",
       "13122    operating\n",
       "13123    operating\n",
       "13124    operating\n",
       "Name: status, Length: 13125, dtype: object"
      ]
     },
     "execution_count": 130,
     "metadata": {},
     "output_type": "execute_result"
    }
   ],
   "source": [
    "test['status'] = label_encoder.inverse_transform(test['status'])\n",
    "test['status']"
   ]
  },
  {
   "cell_type": "code",
   "execution_count": 131,
   "id": "01f041f6-9e63-40be-aaad-80ef0f692115",
   "metadata": {},
   "outputs": [
    {
     "data": {
      "text/html": [
       "<div>\n",
       "<style scoped>\n",
       "    .dataframe tbody tr th:only-of-type {\n",
       "        vertical-align: middle;\n",
       "    }\n",
       "\n",
       "    .dataframe tbody tr th {\n",
       "        vertical-align: top;\n",
       "    }\n",
       "\n",
       "    .dataframe thead th {\n",
       "        text-align: right;\n",
       "    }\n",
       "</style>\n",
       "<table border=\"1\" class=\"dataframe\">\n",
       "  <thead>\n",
       "    <tr style=\"text-align: right;\">\n",
       "      <th></th>\n",
       "      <th>name</th>\n",
       "      <th>status</th>\n",
       "    </tr>\n",
       "  </thead>\n",
       "  <tbody>\n",
       "    <tr>\n",
       "      <th>0</th>\n",
       "      <td>Crystalsol</td>\n",
       "      <td>operating</td>\n",
       "    </tr>\n",
       "    <tr>\n",
       "      <th>1</th>\n",
       "      <td>JBI Fish &amp; Wings</td>\n",
       "      <td>operating</td>\n",
       "    </tr>\n",
       "    <tr>\n",
       "      <th>2</th>\n",
       "      <td>COINPLUS</td>\n",
       "      <td>operating</td>\n",
       "    </tr>\n",
       "    <tr>\n",
       "      <th>3</th>\n",
       "      <td>Imagine Communications</td>\n",
       "      <td>operating</td>\n",
       "    </tr>\n",
       "    <tr>\n",
       "      <th>4</th>\n",
       "      <td>DNA13</td>\n",
       "      <td>operating</td>\n",
       "    </tr>\n",
       "    <tr>\n",
       "      <th>...</th>\n",
       "      <td>...</td>\n",
       "      <td>...</td>\n",
       "    </tr>\n",
       "    <tr>\n",
       "      <th>13120</th>\n",
       "      <td>Jymob</td>\n",
       "      <td>operating</td>\n",
       "    </tr>\n",
       "    <tr>\n",
       "      <th>13121</th>\n",
       "      <td>GlobaTrek</td>\n",
       "      <td>operating</td>\n",
       "    </tr>\n",
       "    <tr>\n",
       "      <th>13122</th>\n",
       "      <td>Inkd.com</td>\n",
       "      <td>operating</td>\n",
       "    </tr>\n",
       "    <tr>\n",
       "      <th>13123</th>\n",
       "      <td>AdWill</td>\n",
       "      <td>operating</td>\n",
       "    </tr>\n",
       "    <tr>\n",
       "      <th>13124</th>\n",
       "      <td>RingCentral</td>\n",
       "      <td>operating</td>\n",
       "    </tr>\n",
       "  </tbody>\n",
       "</table>\n",
       "<p>13125 rows × 2 columns</p>\n",
       "</div>"
      ],
      "text/plain": [
       "                         name     status\n",
       "0                  Crystalsol  operating\n",
       "1            JBI Fish & Wings  operating\n",
       "2                    COINPLUS  operating\n",
       "3      Imagine Communications  operating\n",
       "4                       DNA13  operating\n",
       "...                       ...        ...\n",
       "13120                   Jymob  operating\n",
       "13121               GlobaTrek  operating\n",
       "13122                Inkd.com  operating\n",
       "13123                  AdWill  operating\n",
       "13124             RingCentral  operating\n",
       "\n",
       "[13125 rows x 2 columns]"
      ]
     },
     "execution_count": 131,
     "metadata": {},
     "output_type": "execute_result"
    }
   ],
   "source": [
    "df = test[['name','status']]\n",
    "df.reset_index(drop=True)\n",
    "df"
   ]
  },
  {
   "cell_type": "code",
   "execution_count": 132,
   "id": "b162dbee-cf4a-4394-9c05-2f306f3abe72",
   "metadata": {},
   "outputs": [
    {
     "data": {
      "text/plain": [
       "status\n",
       "operating    12196\n",
       "closed         929\n",
       "Name: count, dtype: int64"
      ]
     },
     "execution_count": 132,
     "metadata": {},
     "output_type": "execute_result"
    }
   ],
   "source": [
    "status = df['status'].value_counts()\n",
    "status"
   ]
  },
  {
   "cell_type": "code",
   "execution_count": 133,
   "id": "80f178db-94be-4806-b784-7c3219c3c2a4",
   "metadata": {},
   "outputs": [],
   "source": [
    "df = test[['name','status']].to_csv('startup_preds_1.csv',index = False)"
   ]
  },
  {
   "cell_type": "markdown",
   "id": "5f8f6d9c-934d-4b19-8138-a70d9231c817",
   "metadata": {},
   "source": [
    "<div style=\"background: #bbdb92\"><b>Выводы по разделу \"Получение предсказаний\"</b>\n",
    "<br><br>Подготовили тестовые данные: заполнили пропуски пайплайнами, создали новые признаки.\n",
    "<br><br>Получили предсказания по лучшей модели. Модель предсказала статус \"действующий\" для 12.195 стартапов, статус \"закрыт\" для 930 стартапов.\n",
    "<br><br>Данные предсказания загружены на платформу Kaggle для проверки, где получены метрика F1-score равная 0.80747.</div>"
   ]
  },
  {
   "cell_type": "markdown",
   "id": "1755485b-8ed2-454c-903b-296f9a3df67d",
   "metadata": {},
   "source": [
    "<div style=\"background: #bbdb92\"><b>Общий вывод по проекту</b>\n",
    "<br><br>Проект непростой, поскольку данные очень \"грязные\", много уникальных значений признаков.\n",
    "<br><br>Получена адекватная модель, которая в целом показывает неплохое значение F1-score. Однако, есть к чему стремиться.\n",
    "<br><br>Что можно сделать для улучшения метрики:\n",
    "\n",
    "- более тщательный разведочный анализ\n",
    "- создание других новых синтетических признаков\n",
    "- обучение других моделей</div>"
   ]
  },
  {
   "cell_type": "code",
   "execution_count": null,
   "id": "7ddfb526-a6d6-4253-b660-a7d271da1c49",
   "metadata": {},
   "outputs": [],
   "source": []
  }
 ],
 "metadata": {
  "kernelspec": {
   "display_name": "Python 3 (ipykernel)",
   "language": "python",
   "name": "python3"
  },
  "language_info": {
   "codemirror_mode": {
    "name": "ipython",
    "version": 3
   },
   "file_extension": ".py",
   "mimetype": "text/x-python",
   "name": "python",
   "nbconvert_exporter": "python",
   "pygments_lexer": "ipython3",
   "version": "3.12.7"
  }
 },
 "nbformat": 4,
 "nbformat_minor": 5
}
